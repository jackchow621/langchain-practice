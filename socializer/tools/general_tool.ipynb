{
 "cells": [
  {
   "cell_type": "code",
   "execution_count": null,
   "id": "70e91168-ef4a-4fc1-9a5a-ac4ec1d91625",
   "metadata": {},
   "outputs": [],
   "source": [
    "import re\n",
    "\n",
    "def contains_chinese(s):\n",
    "    return bool(re.search('[\\u4e00-\\u9fa5]', s))\n",
    "\n",
    "def remove_non_chinese_fields(d):\n",
    "    if isinstance(d, dict):\n",
    "        to_remove = [key for key, value in d.items() if isinstance(value, (str, int, float, bool)) and (not contains_chinese(str(value)))]\n",
    "        for key in to_remove:\n",
    "            del d[key]\n",
    "        \n",
    "        for key, value in d.items():\n",
    "            if isinstance(value, (dict, list)):\n",
    "                remove_non_chinese_fields(value)\n",
    "    elif isinstance(d, list):\n",
    "        to_remove_indices = []\n",
    "        for i, item in enumerate(d):\n",
    "            if isinstance(item, (str, int, float, bool)) and (not contains_chinese(str(item))):\n",
    "                to_remove_indices.append(i)\n",
    "            else:\n",
    "                remove_non_chinese_fields(item)\n",
    "        \n",
    "        for index in reversed(to_remove_indices):\n",
    "            d.pop(index)"
   ]
  }
 ],
 "metadata": {
  "kernelspec": {
   "display_name": "Python 3 (ipykernel)",
   "language": "python",
   "name": "python3"
  },
  "language_info": {
   "codemirror_mode": {
    "name": "ipython",
    "version": 3
   },
   "file_extension": ".py",
   "mimetype": "text/x-python",
   "name": "python",
   "nbconvert_exporter": "python",
   "pygments_lexer": "ipython3",
   "version": "3.9.6"
  }
 },
 "nbformat": 4,
 "nbformat_minor": 5
}
