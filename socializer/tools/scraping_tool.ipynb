{
 "cells": [
  {
   "cell_type": "code",
   "execution_count": null,
   "id": "64b6f4b3-9944-4173-828c-e606f301b2b0",
   "metadata": {},
   "outputs": [],
   "source": [
    "# 导入所需的库\n",
    "import json\n",
    "import requests\n",
    "import time\n",
    "\n",
    "# 定义爬取微博用户信息的函数\n",
    "def scrape_weibo(url: str):\n",
    "    '''爬取相关鲜花服务商的资料'''\n",
    "    headers = {\n",
    "        \"User-Agent\": \"Mozilla/5.0 (Windows NT 10.0; Win64; x64) AppleWebKit/537.36 (KHTML, like Gecko) Chrome/89.0.4389.82 Safari/537.36\",\n",
    "        \"Referer\": \"https://weibo.com\"\n",
    "    }\n",
    "    cookies = {\n",
    "    \t\"cookie\": '''your cookie'''\n",
    "    }\n",
    "    response = requests.get(url, headers=headers, cookies=cookies)\n",
    "    time.sleep(3)   # 加上3s 的延时防止被反爬\n",
    "    return response.text\n",
    "\n",
    "# 根据UID构建URL爬取信息\n",
    "def get_data(id):\n",
    "    url = \"https://weibo.com/ajax/profile/detail?uid={}\".format(id)\n",
    "    html = scrape_weibo(url)\n",
    "    response = json.loads(html)\n",
    "\n",
    "    return response"
   ]
  }
 ],
 "metadata": {
  "kernelspec": {
   "display_name": "Python 3 (ipykernel)",
   "language": "python",
   "name": "python3"
  },
  "language_info": {
   "codemirror_mode": {
    "name": "ipython",
    "version": 3
   },
   "file_extension": ".py",
   "mimetype": "text/x-python",
   "name": "python",
   "nbconvert_exporter": "python",
   "pygments_lexer": "ipython3",
   "version": "3.9.6"
  }
 },
 "nbformat": 4,
 "nbformat_minor": 5
}
