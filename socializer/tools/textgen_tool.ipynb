{
 "cells": [
  {
   "cell_type": "code",
   "execution_count": null,
   "id": "35113e5c-a39c-4b24-8e5c-8448c291c399",
   "metadata": {},
   "outputs": [],
   "source": [
    "# 导入所需要的库\n",
    "from langchain.prompts import PromptTemplate\n",
    "from langchain.chat_models import ChatOpenAI\n",
    "from langchain.chains import LLMChain\n",
    "from tools.parsing_tool import letter_parser\n",
    "\n",
    "\n",
    "# 生成文案的函数\n",
    "def generate_letter(information):\n",
    "\n",
    "    # 设计提示模板\n",
    "    letter_template = \"\"\"\n",
    "         下面是这个人的微博信息 {information}\n",
    "         请你帮我:\n",
    "         1. 写一个简单的总结\n",
    "         2. 挑两件有趣的特点说一说\n",
    "         3. 找一些他比较感兴趣的事情\n",
    "         4. 写一篇热情洋溢的介绍信\n",
    "         \\n{format_instructions}\"\"\"\n",
    "    \n",
    "    prompt_template = PromptTemplate(\n",
    "        input_variables=[\"information\"],\n",
    "        template=letter_template,\n",
    "        partial_variables={\n",
    "            \"format_instructions\": letter_parser.get_format_instructions()\n",
    "        },         \n",
    "    )\n",
    "\n",
    "    # 初始化大模型\n",
    "    llm = ChatOpenAI(model_name=\"gpt-3.5-turbo\")    \n",
    "\n",
    "    # 初始化链\n",
    "    chain = LLMChain(llm=llm, prompt=prompt_template)\n",
    "\n",
    "    # 生成文案\n",
    "    result = chain.run(information = information)\n",
    "    return result"
   ]
  }
 ],
 "metadata": {
  "kernelspec": {
   "display_name": "Python 3 (ipykernel)",
   "language": "python",
   "name": "python3"
  },
  "language_info": {
   "codemirror_mode": {
    "name": "ipython",
    "version": 3
   },
   "file_extension": ".py",
   "mimetype": "text/x-python",
   "name": "python",
   "nbconvert_exporter": "python",
   "pygments_lexer": "ipython3",
   "version": "3.9.6"
  }
 },
 "nbformat": 4,
 "nbformat_minor": 5
}
