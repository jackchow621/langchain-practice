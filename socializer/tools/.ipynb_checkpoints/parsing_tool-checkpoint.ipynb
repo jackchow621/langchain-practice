{
 "cells": [
  {
   "cell_type": "code",
   "execution_count": null,
   "id": "73acee54-2cba-4cbb-906c-f861398b2d23",
   "metadata": {},
   "outputs": [],
   "source": [
    "# 导入所需的类\n",
    "from langchain.output_parsers import PydanticOutputParser\n",
    "from pydantic import BaseModel, Field\n",
    "from typing import List\n",
    "\n",
    "# 定义一个名为TextParsing的模型，描述了如何解析大V信息\n",
    "class TextParsing(BaseModel):\n",
    "    summary: str = Field(description=\"大V个人简介\")  # 大V的简介或背景信息\n",
    "    facts: List[str] = Field(description=\"大V的特点\")  # 大V的一些显著特点或者事实\n",
    "    interest: List[str] = Field(description=\"这个大V可能感兴趣的事情\")  # 大V可能感兴趣的主题或活动\n",
    "    letter: List[str] = Field(description=\"一篇联络这个大V的邮件\")  # 联络大V的建议邮件内容\n",
    "\n",
    "    # 将模型对象转换为字典\n",
    "    def to_dict(self):\n",
    "        return {\n",
    "            \"summary\": self.summary,\n",
    "            \"facts\": self.facts,\n",
    "            \"interest\": self.interest,  \n",
    "            \"letter\": self.letter,    \n",
    "        }\n",
    "\n",
    "# 创建一个基于Pydantic模型的解析器，用于将文本输出解析为特定的结构\n",
    "letter_parser: PydanticOutputParser = PydanticOutputParser(\n",
    "    pydantic_object=TextParsing\n",
    ")"
   ]
  }
 ],
 "metadata": {
  "kernelspec": {
   "display_name": "Python 3 (ipykernel)",
   "language": "python",
   "name": "python3"
  },
  "language_info": {
   "codemirror_mode": {
    "name": "ipython",
    "version": 3
   },
   "file_extension": ".py",
   "mimetype": "text/x-python",
   "name": "python",
   "nbconvert_exporter": "python",
   "pygments_lexer": "ipython3",
   "version": "3.9.6"
  }
 },
 "nbformat": 4,
 "nbformat_minor": 5
}
