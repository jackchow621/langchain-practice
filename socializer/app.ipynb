{
 "cells": [
  {
   "cell_type": "code",
   "execution_count": null,
   "id": "e641b817-27ed-421a-ba6f-97f269d57fbd",
   "metadata": {},
   "outputs": [],
   "source": [
    "# 导入所需的库和模块\n",
    "from flask import Flask, render_template, request, jsonify\n",
    "from findbigV import find_bigV\n",
    "import json\n",
    "\n",
    "# 实例化Flask应用\n",
    "app = Flask(__name__)\n",
    "\n",
    "# 主页路由，返回index.html模板\n",
    "@app.route(\"/\")\n",
    "def index():\n",
    "    return render_template(\"index.html\")\n",
    "\n",
    "# 处理请求的路由，仅允许POST请求\n",
    "@app.route(\"/process\", methods=[\"POST\"])\n",
    "def process():\n",
    "    # 获取提交的花的名称\n",
    "    flower = request.form[\"flower\"]\n",
    "    # 使用find_bigV函数获取相关数据\n",
    "    response_str = find_bigV(flower=flower)\n",
    "    # 使用json.loads将字符串解析为字典\n",
    "    response = json.loads(response_str)\n",
    "\n",
    "    # 返回数据的json响应\n",
    "    return jsonify(\n",
    "        {\n",
    "            \"summary\": response[\"summary\"],\n",
    "            \"facts\": response[\"facts\"],\n",
    "            \"interest\": response[\"interest\"],\n",
    "            \"letter\": response[\"letter\"],\n",
    "        }\n",
    "    )    \n",
    "\n",
    "# 判断是否是主程序运行，并设置Flask应用的host和debug模式\n",
    "if __name__ == \"__main__\":\n",
    "    app.run(host=\"0.0.0.0\", debug=True)"
   ]
  }
 ],
 "metadata": {
  "kernelspec": {
   "display_name": "Python 3 (ipykernel)",
   "language": "python",
   "name": "python3"
  },
  "language_info": {
   "codemirror_mode": {
    "name": "ipython",
    "version": 3
   },
   "file_extension": ".py",
   "mimetype": "text/x-python",
   "name": "python",
   "nbconvert_exporter": "python",
   "pygments_lexer": "ipython3",
   "version": "3.9.6"
  }
 },
 "nbformat": 4,
 "nbformat_minor": 5
}
