{
 "cells": [
  {
   "cell_type": "code",
   "execution_count": null,
   "id": "13ad9cde-dd4e-4592-85ea-40e168679465",
   "metadata": {},
   "outputs": [],
   "source": [
    "# 导入一个搜索UID的工具\n",
    "from tools.search_tool import get_UID\n",
    "\n",
    "# 导入所需的库\n",
    "from langchain.prompts import PromptTemplate\n",
    "from langchain.chat_models import ChatOpenAI\n",
    "from langchain.agents import initialize_agent, Tool\n",
    "from langchain.agents import AgentType\n",
    "\n",
    "# 通过LangChain代理找到UID的函数\n",
    "def lookup_V(flower_type: str) :\n",
    "    # 初始化大模型\n",
    "    llm = ChatOpenAI(temperature=0, model_name=\"gpt-3.5-turbo\")\n",
    "\n",
    "    # 寻找UID的模板\n",
    "    template = \"\"\"given the {flower} I want you to get a related 微博 UID.\n",
    "                  Your answer should contain only a UID.\n",
    "                  The URL always starts with https://weibo.com/u/\n",
    "                  for example, if https://weibo.com/u/1669879400 is her 微博, then 1669879400 is her UID\n",
    "                  This is only the example don't give me this, but the actual UID\"\"\"\n",
    "    # 完整的提示模板\n",
    "    prompt_template = PromptTemplate(\n",
    "        input_variables=[\"flower\"], template=template\n",
    "    )\n",
    "\n",
    "    # 代理的工具\n",
    "    tools = [\n",
    "        Tool(\n",
    "            name=\"Crawl Google for 微博 page\",\n",
    "            func=get_UID,\n",
    "            description=\"useful for when you need get the 微博 UID\",\n",
    "        )\n",
    "    ]\n",
    "\n",
    "    # 初始化代理\n",
    "    agent = initialize_agent(\n",
    "        tools, \n",
    "        llm, \n",
    "        agent=AgentType.ZERO_SHOT_REACT_DESCRIPTION, \n",
    "        verbose=True\n",
    "    )\n",
    "\n",
    "    # 返回找到的UID\n",
    "    ID = agent.run(prompt_template.format_prompt(flower=flower_type))\n",
    "\n",
    "    return ID"
   ]
  }
 ],
 "metadata": {
  "kernelspec": {
   "display_name": "Python 3 (ipykernel)",
   "language": "python",
   "name": "python3"
  },
  "language_info": {
   "codemirror_mode": {
    "name": "ipython",
    "version": 3
   },
   "file_extension": ".py",
   "mimetype": "text/x-python",
   "name": "python",
   "nbconvert_exporter": "python",
   "pygments_lexer": "ipython3",
   "version": "3.9.6"
  }
 },
 "nbformat": 4,
 "nbformat_minor": 5
}
