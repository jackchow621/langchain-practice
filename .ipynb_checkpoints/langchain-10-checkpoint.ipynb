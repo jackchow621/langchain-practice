{
 "cells": [
  {
   "cell_type": "markdown",
   "id": "e534379d-a45c-4212-a6b3-0ab331d854fc",
   "metadata": {},
   "source": [
    "# 使用 ConversationChain"
   ]
  },
  {
   "cell_type": "code",
   "execution_count": null,
   "id": "89c60ee6-86bc-4aaf-b06f-bb627df5a75a",
   "metadata": {},
   "outputs": [],
   "source": [
    "from langchain import OpenAI\n",
    "# 初始化大语言模型\n",
    "llm = OpenAI(\n",
    "    temperature=0.5,\n",
    "    model_name=\"gpt-3.5-turbo-instruct\"\n",
    ")"
   ]
  },
  {
   "cell_type": "code",
   "execution_count": null,
   "id": "5468f649-a23f-41ef-972e-bfd7e687ef4f",
   "metadata": {},
   "outputs": [],
   "source": [
    "from langchain.chains import ConversationChain\n",
    "\n",
    "# 初始化对话链\n",
    "conv_chain = ConversationChain(llm=llm)\n",
    "\n",
    "# 打印对话的模板\n",
    "print(conv_chain.prompt.template)"
   ]
  },
  {
   "cell_type": "markdown",
   "id": "0f4654e2-864c-4e29-95d8-3780a71323dd",
   "metadata": {},
   "source": [
    "# 使用 ConversationBufferMemory"
   ]
  },
  {
   "cell_type": "code",
   "execution_count": null,
   "id": "5e0a5913-8488-491d-8e7d-68abac353a40",
   "metadata": {},
   "outputs": [],
   "source": [
    "from langchain.chains import ConversationChain\n",
    "from langchain.chains.conversation.memory import ConversationBufferMemory\n",
    "\n",
    "# 初始化对话链\n",
    "conversation = ConversationChain(\n",
    "    llm=llm,\n",
    "    memory=ConversationBufferMemory()\n",
    ")\n"
   ]
  },
  {
   "cell_type": "code",
   "execution_count": null,
   "id": "e086884c-ad12-4cd6-a00c-f2d231b54a40",
   "metadata": {},
   "outputs": [],
   "source": [
    "# 第一天的对话\n",
    "# 回合1\n",
    "conversation(\"我姐姐明天要过生日，我需要一束生日花束。\")\n",
    "print(\"第一次对话后的记忆:\", conversation.memory.buffer)"
   ]
  },
  {
   "cell_type": "code",
   "execution_count": null,
   "id": "f6a90ace-a25b-4cf2-ab89-76f52281c808",
   "metadata": {},
   "outputs": [],
   "source": [
    "# 回合2\n",
    "conversation(\"她喜欢粉色玫瑰，颜色是粉色的。\")\n",
    "print(\"第二次对话后的记忆:\", conversation.memory.buffer)"
   ]
  },
  {
   "cell_type": "code",
   "execution_count": null,
   "id": "a6930551-d278-4e77-904b-672b889c0f91",
   "metadata": {},
   "outputs": [],
   "source": [
    "# 回合3 （第二天的对话）\n",
    "conversation(\"我又来了，还记得我昨天为什么要来买花吗？\")\n",
    "print(\"/n第三次对话后时提示:/n\",conversation.prompt.template)\n",
    "print(\"/n第三次对话后的记忆:/n\", conversation.memory.buffer)"
   ]
  },
  {
   "cell_type": "markdown",
   "id": "f7ab3642-15f0-42c4-8da2-b6fa72ff4a26",
   "metadata": {},
   "source": [
    "# 使用 ConversationBufferWindowMemory"
   ]
  },
  {
   "cell_type": "code",
   "execution_count": null,
   "id": "64a4cb10-a6fd-4e54-ba73-f8fa4bd049de",
   "metadata": {},
   "outputs": [],
   "source": [
    "from langchain.chains import ConversationChain\n",
    "from langchain.chains.conversation.memory import ConversationBufferWindowMemory\n",
    "\n",
    "# 初始化对话链\n",
    "conversation = ConversationChain(\n",
    "    llm=llm,\n",
    "    memory=ConversationBufferWindowMemory(k=1)\n",
    ")"
   ]
  },
  {
   "cell_type": "code",
   "execution_count": null,
   "id": "b9f9849e-a591-4b11-8c75-8c60f7701a56",
   "metadata": {},
   "outputs": [],
   "source": [
    "# 第一天的对话\n",
    "# 回合1\n",
    "result = conversation(\"我姐姐明天要过生日，我需要一束生日花束。\")\n",
    "print(result)"
   ]
  },
  {
   "cell_type": "code",
   "execution_count": null,
   "id": "c7e2f1ee-b91b-43f2-9383-27608b5ff4c0",
   "metadata": {},
   "outputs": [],
   "source": [
    "# 回合2\n",
    "result = conversation(\"她喜欢粉色玫瑰，颜色是粉色的。\")\n",
    "# print(\"\\n第二次对话后的记忆:\\n\", conversation.memory.buffer)\n",
    "print(result)"
   ]
  },
  {
   "cell_type": "code",
   "execution_count": null,
   "id": "24141cd1-a251-4a18-8fad-567d306d64db",
   "metadata": {},
   "outputs": [],
   "source": [
    "# 第二天的对话\n",
    "# 回合3\n",
    "result = conversation(\"我又来了，还记得我昨天为什么要来买花吗？\")\n",
    "print(result)"
   ]
  },
  {
   "cell_type": "markdown",
   "id": "7f54e648-d36b-40e4-b3d1-ce29ae46ef07",
   "metadata": {},
   "source": [
    "# 使用 ConversationSummaryMemory"
   ]
  },
  {
   "cell_type": "code",
   "execution_count": null,
   "id": "3e46c71c-bd5a-4968-8e32-09e235fbb5e3",
   "metadata": {},
   "outputs": [],
   "source": [
    "from langchain.chains.conversation.memory import ConversationSummaryMemory\n",
    "\n",
    "# 初始化对话链\n",
    "conversation = ConversationChain(\n",
    "    llm=llm,\n",
    "    memory=ConversationSummaryMemory(llm=llm)\n",
    ")"
   ]
  },
  {
   "cell_type": "code",
   "execution_count": null,
   "id": "1bcf85d5-c4ba-4cb6-a04e-ff162b40f896",
   "metadata": {},
   "outputs": [],
   "source": [
    "# 第一天的对话\n",
    "# 回合1\n",
    "result = conversation(\"我姐姐明天要过生日，我需要一束生日花束。\")\n",
    "print(result)"
   ]
  },
  {
   "cell_type": "code",
   "execution_count": null,
   "id": "84098f8d-6324-4abd-80c6-4ed282f9d0db",
   "metadata": {},
   "outputs": [],
   "source": [
    "# 回合2\n",
    "result = conversation(\"她喜欢粉色玫瑰，颜色是粉色的。\")\n",
    "# print(\"\\n第二次对话后的记忆:\\n\", conversation.memory.buffer)\n",
    "print(result)"
   ]
  },
  {
   "cell_type": "code",
   "execution_count": null,
   "id": "0e086316-a096-466a-926f-85255da33530",
   "metadata": {},
   "outputs": [],
   "source": [
    "# 第二天的对话\n",
    "# 回合3\n",
    "result = conversation(\"我又来了，还记得我昨天为什么要来买花吗？\")\n",
    "print(result)"
   ]
  },
  {
   "cell_type": "markdown",
   "id": "840143ef-752a-4bd8-9673-2d42ee0f6af9",
   "metadata": {},
   "source": [
    "# 使用 ConversationSummaryBufferMemory"
   ]
  },
  {
   "cell_type": "code",
   "execution_count": null,
   "id": "b5c636a2-0152-4d8d-95c2-80f80ff3c2dd",
   "metadata": {},
   "outputs": [],
   "source": [
    "from langchain.chains.conversation.memory import ConversationSummaryBufferMemory\n",
    "\n",
    "# 初始化对话链\n",
    "conversation = ConversationChain(\n",
    "    llm=llm,\n",
    "    memory=ConversationSummaryBufferMemory(\n",
    "        llm=llm,\n",
    "        max_token_limit=300))"
   ]
  },
  {
   "cell_type": "code",
   "execution_count": null,
   "id": "aa7c5a1c-c9e4-46c9-b2af-bf56627c7b23",
   "metadata": {},
   "outputs": [],
   "source": [
    "# 第一天的对话\n",
    "# 回合1\n",
    "result = conversation(\"我姐姐明天要过生日，我需要一束生日花束。\")\n",
    "print(result)"
   ]
  },
  {
   "cell_type": "code",
   "execution_count": null,
   "id": "1dfb702a-9a6d-491f-98d5-009215337218",
   "metadata": {},
   "outputs": [],
   "source": [
    "# 回合2\n",
    "result = conversation(\"她喜欢粉色玫瑰，颜色是粉色的。\")\n",
    "# print(\"\\n第二次对话后的记忆:\\n\", conversation.memory.buffer)\n",
    "print(result)"
   ]
  },
  {
   "cell_type": "code",
   "execution_count": null,
   "id": "b16e9476-06d6-4acd-a8e6-61cb4e68249e",
   "metadata": {},
   "outputs": [],
   "source": [
    "# 第二天的对话\n",
    "# 回合3\n",
    "result = conversation(\"我又来了，还记得我昨天为什么要来买花吗？\")\n",
    "print(result)"
   ]
  }
 ],
 "metadata": {
  "kernelspec": {
   "display_name": "Python 3 (ipykernel)",
   "language": "python",
   "name": "python3"
  },
  "language_info": {
   "codemirror_mode": {
    "name": "ipython",
    "version": 3
   },
   "file_extension": ".py",
   "mimetype": "text/x-python",
   "name": "python",
   "nbconvert_exporter": "python",
   "pygments_lexer": "ipython3",
   "version": "3.9.6"
  }
 },
 "nbformat": 4,
 "nbformat_minor": 5
}
