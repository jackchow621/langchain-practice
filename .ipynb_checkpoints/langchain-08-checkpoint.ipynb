{
 "cells": [
  {
   "cell_type": "markdown",
   "id": "1736dca1-f158-4a8d-a78a-3ff583569eda",
   "metadata": {},
   "source": [
    "# 构建提示信息的模板"
   ]
  },
  {
   "cell_type": "code",
   "execution_count": null,
   "id": "7abfb5b9-958f-4b18-a0bf-909fc0a5f75e",
   "metadata": {},
   "outputs": [],
   "source": [
    "# 构建两个场景的模板\n",
    "flower_care_template = \"\"\"你是一个经验丰富的园丁，擅长解答关于养花育花的问题。\n",
    "                        下面是需要你来回答的问题:\n",
    "                        {input}\"\"\"\n",
    "\n",
    "flower_deco_template = \"\"\"你是一位网红插花大师，擅长解答关于鲜花装饰的问题。\n",
    "                        下面是需要你来回答的问题:\n",
    "                        {input}\"\"\"\n",
    "\n",
    "# 构建提示信息\n",
    "prompt_infos = [\n",
    "    {\n",
    "        \"key\": \"flower_care\",\n",
    "        \"description\": \"适合回答关于鲜花护理的问题\",\n",
    "        \"template\": flower_care_template,\n",
    "    },\n",
    "    {\n",
    "        \"key\": \"flower_decoration\",\n",
    "        \"description\": \"适合回答关于鲜花装饰的问题\",\n",
    "        \"template\": flower_deco_template,\n",
    "    }]"
   ]
  },
  {
   "cell_type": "markdown",
   "id": "835e462a-7e3b-4129-b3ed-ba96945e5891",
   "metadata": {},
   "source": [
    "# 初始化语言模型"
   ]
  },
  {
   "cell_type": "code",
   "execution_count": null,
   "id": "041e995a-5043-41e1-b3fc-3aa14b746259",
   "metadata": {},
   "outputs": [],
   "source": [
    "# 初始化语言模型\n",
    "from langchain.llms import OpenAI\n",
    "import os\n",
    "os.environ[\"OPENAI_API_KEY\"] = '你的OpenAI Key'\n",
    "llm = OpenAI()"
   ]
  },
  {
   "cell_type": "markdown",
   "id": "b01fe5fe-67ee-4649-8d78-22130d5b5882",
   "metadata": {},
   "source": [
    "# 构建目标链"
   ]
  },
  {
   "cell_type": "code",
   "execution_count": null,
   "id": "84b89e5a-20d4-4a8f-a278-30317e97b3e6",
   "metadata": {},
   "outputs": [],
   "source": [
    "# 构建目标链\n",
    "from langchain.chains.llm import LLMChain\n",
    "from langchain.prompts import PromptTemplate\n",
    "chain_map = {}\n",
    "for info in prompt_infos:\n",
    "    prompt = PromptTemplate(template=info['template'], \n",
    "                            input_variables=[\"input\"])\n",
    "    print(\"目标提示:\\n\",prompt)\n",
    "    chain = LLMChain(llm=llm, prompt=prompt,verbose=True)\n",
    "    chain_map[info[\"key\"]] = chain"
   ]
  },
  {
   "cell_type": "markdown",
   "id": "9819a11d-d0fd-4a5f-95c2-20a1b71bad7d",
   "metadata": {},
   "source": [
    "# 构建路由链"
   ]
  },
  {
   "cell_type": "code",
   "execution_count": null,
   "id": "27c38a50-d74f-499d-9aeb-d5d47e42b96b",
   "metadata": {},
   "outputs": [],
   "source": [
    "# 构建路由链\n",
    "from langchain.chains.router.llm_router import LLMRouterChain, RouterOutputParser\n",
    "from langchain.chains.router.multi_prompt_prompt import MULTI_PROMPT_ROUTER_TEMPLATE as RounterTemplate\n",
    "\n",
    "destinations = [f\"{p['key']}: {p['description']}\" for p in prompt_infos]\n",
    "router_template = RounterTemplate.format(destinations=\"\\n\".join(destinations))\n",
    "print(\"路由模板:\\n\",router_template)\n",
    "router_prompt = PromptTemplate(\n",
    "    template=router_template,\n",
    "    input_variables=[\"input\"],\n",
    "    output_parser=RouterOutputParser(),)\n",
    "print(\"路由提示:\\n\",router_prompt)\n",
    "router_chain = LLMRouterChain.from_llm(llm, \n",
    "                                       router_prompt,\n",
    "                                       verbose=True)"
   ]
  },
  {
   "cell_type": "markdown",
   "id": "5843dab1-62fd-4b31-876c-6d2a0e3c06fd",
   "metadata": {},
   "source": [
    "# 构建默认链"
   ]
  },
  {
   "cell_type": "code",
   "execution_count": null,
   "id": "e5a1d537-401b-4111-abb9-254896ad4479",
   "metadata": {},
   "outputs": [],
   "source": [
    "# 构建默认链\n",
    "from langchain.chains import ConversationChain\n",
    "default_chain = ConversationChain(llm=llm, \n",
    "                                  output_key=\"text\",\n",
    "                                  verbose=True)"
   ]
  },
  {
   "cell_type": "markdown",
   "id": "80ac590f-22e7-4b1a-9bc4-189a07b2f1b9",
   "metadata": {},
   "source": [
    "# 构建多提示链"
   ]
  },
  {
   "cell_type": "code",
   "execution_count": null,
   "id": "cc125813-cda4-46cd-9d7f-f50027a8bf5d",
   "metadata": {},
   "outputs": [],
   "source": [
    "# 构建多提示链\n",
    "from langchain.chains.router import MultiPromptChain\n",
    "chain = MultiPromptChain(\n",
    "    router_chain=router_chain,\n",
    "    destination_chains=chain_map,\n",
    "    default_chain=default_chain,\n",
    "    verbose=True)"
   ]
  },
  {
   "cell_type": "markdown",
   "id": "0060d2ee-d349-4a6c-9b29-48a9fef15d0e",
   "metadata": {},
   "source": [
    "# 运行路由链"
   ]
  },
  {
   "cell_type": "code",
   "execution_count": null,
   "id": "d5299ab2-3d06-4235-be45-b645bcbcdc82",
   "metadata": {},
   "outputs": [],
   "source": [
    "print(chain.run(\"如何为玫瑰浇水？\"))\n",
    "print(chain.run(\"如何为婚礼场地装饰花朵？\"))\n",
    "print(chain.run(\"如何考入哈佛大学？\"))"
   ]
  }
 ],
 "metadata": {
  "kernelspec": {
   "display_name": "Python 3 (ipykernel)",
   "language": "python",
   "name": "python3"
  },
  "language_info": {
   "codemirror_mode": {
    "name": "ipython",
    "version": 3
   },
   "file_extension": ".py",
   "mimetype": "text/x-python",
   "name": "python",
   "nbconvert_exporter": "python",
   "pygments_lexer": "ipython3",
   "version": "3.9.6"
  }
 },
 "nbformat": 4,
 "nbformat_minor": 5
}
