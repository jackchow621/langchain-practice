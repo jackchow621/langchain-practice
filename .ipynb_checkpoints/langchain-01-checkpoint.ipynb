{
 "cells": [
  {
   "cell_type": "markdown",
   "id": "30017c00-3c90-4c60-a532-3070fe575a1c",
   "metadata": {},
   "source": [
    "# openAI 实现"
   ]
  },
  {
   "cell_type": "markdown",
   "id": "f3eb6ba8-a8ca-4aab-add0-8679533d0f07",
   "metadata": {},
   "source": [
    "## 文本(Text)"
   ]
  },
  {
   "cell_type": "code",
   "execution_count": null,
   "id": "94d3b681-9cf5-4a3c-ba61-bf330cb6df58",
   "metadata": {},
   "outputs": [],
   "source": [
    "import os\n",
    "os.environ[\"OPENAI_API_KEY\"] = '你的Open API Key'"
   ]
  },
  {
   "cell_type": "code",
   "execution_count": null,
   "id": "38c7c555-fda3-4010-899b-1ee43820ace7",
   "metadata": {},
   "outputs": [],
   "source": [
    "import openai\n",
    "openai.api_key = os.getenv(\"OPENAI_API_KEY\")"
   ]
  },
  {
   "cell_type": "code",
   "execution_count": null,
   "id": "b1ea9f32-e3d4-40a8-99a9-99f160a6b798",
   "metadata": {},
   "outputs": [],
   "source": [
    "response = openai.completions.create(\n",
    "  model=\"gpt-3.5-turbo-instruct\",\n",
    "  temperature=0.5,\n",
    "  max_tokens=100,\n",
    "  prompt=\"请给我的花店起个名\")"
   ]
  },
  {
   "cell_type": "code",
   "execution_count": 1,
   "id": "3b715ba4-1076-4b02-9553-b1857f0fc84c",
   "metadata": {},
   "outputs": [],
   "source": [
    "ARK_API_KEY=\"*******\"\n",
    "model=\"*******\""
   ]
  },
  {
   "cell_type": "code",
   "execution_count": 4,
   "id": "c7ac9a0f-4097-4e9d-bfa0-070db4ab876f",
   "metadata": {},
   "outputs": [
    {
     "name": "stdout",
     "output_type": "stream",
     "text": [
      "----- standard request -----\n",
      "以下是一些适合花店的名字，供你参考：\n",
      "\n",
      "1. **花颜悦色**：让人联想到美丽的花朵和愉悦的心情。\n",
      "2. **花样年华**：寓意着花店的花朵能为人们带来花样般的美好时光。\n",
      "3. **花语心愿**：表示花店能帮助顾客传达花语般的心愿和情感。\n",
      "4. **花之语**：强调了花店与花的紧密联系，以及花所代表的语言\n"
     ]
    }
   ],
   "source": [
    "from volcenginesdkarkruntime import Ark\n",
    "\n",
    "client = Ark(\n",
    "    base_url=\"https://ark.cn-beijing.volces.com/api/v3\",\n",
    "    api_key=ARK_API_KEY\n",
    ")\n",
    "\n",
    "# Non-streaming:\n",
    "print(\"----- standard request -----\")\n",
    "completion = client.chat.completions.create(\n",
    "    model=model,\n",
    "    temperature=0.5,\n",
    "    max_tokens=100,\n",
    "    messages = [\n",
    "        {\"role\": \"system\", \"content\": \"你是豆包，是由字节跳动开发的 AI 人工智能助手\"},\n",
    "        {\"role\": \"user\", \"content\": \"请给我的花店起个名\"},\n",
    "    ],\n",
    ")\n",
    "print(completion.choices[0].message.content)"
   ]
  },
  {
   "cell_type": "markdown",
   "id": "33099348-71f8-4729-8736-0e6780921edc",
   "metadata": {},
   "source": [
    "## 聊天(Chat)"
   ]
  },
  {
   "cell_type": "code",
   "execution_count": null,
   "id": "cc229572-99af-418e-ac8c-bfef91ff4c55",
   "metadata": {},
   "outputs": [],
   "source": [
    "response = client.chat.completions.create(  \n",
    "  model=\"gpt-4\",\n",
    "  messages=[\n",
    "        {\"role\": \"system\", \"content\": \"You are a creative AI.\"},\n",
    "        {\"role\": \"user\", \"content\": \"请给我的花店起个名\"},\n",
    "    ],\n",
    "  temperature=0.8,\n",
    "  max_tokens=60\n",
    ")"
   ]
  },
  {
   "cell_type": "markdown",
   "id": "a878a0ba-6114-48f3-9911-573c938cee97",
   "metadata": {},
   "source": [
    "# Langchain实现"
   ]
  },
  {
   "cell_type": "markdown",
   "id": "131d1229-9923-4902-96eb-3aca5cf8a3fe",
   "metadata": {},
   "source": [
    "## 文本(Text)"
   ]
  },
  {
   "cell_type": "code",
   "execution_count": null,
   "id": "06577169-de94-4306-94e3-cbd554c23c9b",
   "metadata": {},
   "outputs": [],
   "source": [
    "import os\n",
    "os.environ[\"OPENAI_API_KEY\"] = '你的Open API Key'"
   ]
  },
  {
   "cell_type": "code",
   "execution_count": null,
   "id": "77da5665-efdf-4f51-b49c-d283754191b2",
   "metadata": {},
   "outputs": [],
   "source": [
    "from langchain.llms \n",
    "import OpenAI\n",
    "\n",
    "llm = OpenAI(  \n",
    "    model=\"gpt-3.5-turbo\",\n",
    "    temperature=0.8,\n",
    "    max_tokens=60,)\n",
    "response = llm.predict(\"请给我的花店起个名\")\n",
    "print(response)"
   ]
  },
  {
   "cell_type": "markdown",
   "id": "2e0fc761-9b30-4e8d-b0bc-f8d6ccbbc086",
   "metadata": {},
   "source": [
    "## 聊天(Chat)"
   ]
  },
  {
   "cell_type": "code",
   "execution_count": null,
   "id": "2dbbad99-5e1d-4885-8898-e79faa22ba65",
   "metadata": {},
   "outputs": [],
   "source": [
    "from langchain.chat_models import ChatOpenAI\n",
    "chat = ChatOpenAI(model=\"gpt-4\",\n",
    "                    temperature=0.8,\n",
    "                    max_tokens=60)"
   ]
  },
  {
   "cell_type": "code",
   "execution_count": null,
   "id": "78fd3d05-bce9-490c-9c38-2d5fb610877a",
   "metadata": {},
   "outputs": [],
   "source": [
    "from langchain.schema import (\n",
    "    HumanMessage,\n",
    "    SystemMessage\n",
    ")\n",
    "\n",
    "messages = [\n",
    "    SystemMessage(content=\"你是一个很棒的智能助手\"),\n",
    "    HumanMessage(content=\"请给我的花店起个名\")\n",
    "]\n",
    "response = chat(messages)\n",
    "\n",
    "print(response)"
   ]
  }
 ],
 "metadata": {
  "kernelspec": {
   "display_name": "Python 3 (ipykernel)",
   "language": "python",
   "name": "python3"
  },
  "language_info": {
   "codemirror_mode": {
    "name": "ipython",
    "version": 3
   },
   "file_extension": ".py",
   "mimetype": "text/x-python",
   "name": "python",
   "nbconvert_exporter": "python",
   "pygments_lexer": "ipython3",
   "version": "3.9.6"
  }
 },
 "nbformat": 4,
 "nbformat_minor": 5
}
