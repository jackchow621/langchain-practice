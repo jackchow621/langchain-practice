{
 "cells": [
  {
   "cell_type": "markdown",
   "id": "89ec0364-da5a-433a-a6e9-591586d544e7",
   "metadata": {},
   "source": [
    "# 结构化工具"
   ]
  },
  {
   "cell_type": "code",
   "execution_count": null,
   "id": "1616703d-143d-4a78-913c-39d8b0e8d7bd",
   "metadata": {},
   "outputs": [],
   "source": [
    "!pip3 install playwright"
   ]
  },
  {
   "cell_type": "code",
   "execution_count": null,
   "id": "5172056c-a74e-49d6-857c-473ccbbc47a8",
   "metadata": {},
   "outputs": [],
   "source": [
    "from playwright.sync_api import sync_playwright\n",
    "\n",
    "def run():\n",
    "    # 使用Playwright上下文管理器\n",
    "    with sync_playwright() as p:\n",
    "        # 使用Chromium，但你也可以选择firefox或webkit\n",
    "        browser = p.chromium.launch()\n",
    "        \n",
    "        # 创建一个新的页面\n",
    "        page = browser.new_page()\n",
    "        \n",
    "        # 导航到指定的URL\n",
    "        page.goto('https://langchain.com/')\n",
    "        \n",
    "        # 获取并打印页面标题\n",
    "        title = page.title()\n",
    "        print(f\"Page title is: {title}\")\n",
    "        \n",
    "        # 关闭浏览器\n",
    "        browser.close()\n",
    "\n",
    "if __name__ == \"__main__\":\n",
    "    run()"
   ]
  },
  {
   "cell_type": "markdown",
   "id": "b78fe1fc-ca20-4978-95e7-4d4c6e891b4a",
   "metadata": {},
   "source": [
    "# Structured Tool Chat（结构化工具对话）代理"
   ]
  },
  {
   "cell_type": "code",
   "execution_count": null,
   "id": "77157dc2-3dd0-4680-9e36-7ecffb445475",
   "metadata": {},
   "outputs": [],
   "source": [
    "from langchain.agents.agent_toolkits import PlayWrightBrowserToolkit\n",
    "from langchain.tools.playwright.utils import create_async_playwright_browser\n",
    "\n",
    "async_browser = create_async_playwright_browser()\n",
    "toolkit = PlayWrightBrowserToolkit.from_browser(async_browser=async_browser)\n",
    "tools = toolkit.get_tools()\n",
    "print(tools)"
   ]
  },
  {
   "cell_type": "code",
   "execution_count": null,
   "id": "a1fb526e-571d-4679-a7c8-ff4af69870f7",
   "metadata": {},
   "outputs": [],
   "source": [
    "from langchain.agents import initialize_agent, AgentType\n",
    "from langchain.chat_models import ChatAnthropic, ChatOpenAI\n",
    "\n",
    "# LLM不稳定，对于这个任务，可能要多跑几次才能得到正确结果\n",
    "llm = ChatOpenAI(temperature=0.5)  \n",
    "\n",
    "agent_chain = initialize_agent(\n",
    "    tools,\n",
    "    llm,\n",
    "    agent=AgentType.STRUCTURED_CHAT_ZERO_SHOT_REACT_DESCRIPTION,\n",
    "    verbose=True,\n",
    ")\n",
    "\n",
    "async def main():\n",
    "    response = await agent_chain.arun(\"What are the headers on python.langchain.com?\")\n",
    "    print(response)\n",
    "\n",
    "import asyncio\n",
    "loop = asyncio.get_event_loop()\n",
    "loop.run_until_complete(main())"
   ]
  },
  {
   "cell_type": "markdown",
   "id": "919827f0-4cfb-4221-8bcf-2f74a882293a",
   "metadata": {},
   "source": [
    "# Self-Ask with Search（自主询问搜索）代理"
   ]
  },
  {
   "cell_type": "code",
   "execution_count": null,
   "id": "42d89287-7811-4b2a-8690-4fe59a3e9842",
   "metadata": {},
   "outputs": [],
   "source": [
    "from langchain import OpenAI, SerpAPIWrapper \n",
    "from langchain.agents import initialize_agent, Tool\n",
    "from langchain.agents import AgentType\n",
    "\n",
    "llm = OpenAI(temperature=0)\n",
    "search = SerpAPIWrapper()\n",
    "tools = [\n",
    "    Tool(\n",
    "        name=\"Intermediate Answer\", \n",
    "        func=search.run,\n",
    "        description=\"useful for when you need to ask with search\",\n",
    "    )\n",
    "]\n",
    "\n",
    "self_ask_with_search = initialize_agent(\n",
    "    tools, llm, agent=AgentType.SELF_ASK_WITH_SEARCH, verbose=True\n",
    ")\n",
    "self_ask_with_search.run(\n",
    "    \"使用玫瑰作为国花的国家的首都是哪里?\"  \n",
    ")"
   ]
  },
  {
   "cell_type": "markdown",
   "id": "a5599b45-3293-4393-9497-d08d8be527ac",
   "metadata": {},
   "source": [
    "# Plan and execute（计划与执行） 代理"
   ]
  },
  {
   "cell_type": "code",
   "execution_count": null,
   "id": "0d5fb27c-ebfc-434b-8254-7f0105c1dc14",
   "metadata": {},
   "outputs": [],
   "source": [
    "!pip3 install -U langchain langchain_experimental"
   ]
  },
  {
   "cell_type": "code",
   "execution_count": null,
   "id": "f60b815a-0c19-432d-875c-cd34fdac0a75",
   "metadata": {},
   "outputs": [],
   "source": [
    "from langchain.chat_models import ChatOpenAI\n",
    "from langchain_experimental.plan_and_execute import PlanAndExecute, load_agent_executor, load_chat_planner\n",
    "from langchain.llms import OpenAI\n",
    "from langchain import SerpAPIWrapper\n",
    "from langchain.agents.tools import Tool\n",
    "from langchain import LLMMathChain\n",
    "\n",
    "search = SerpAPIWrapper()\n",
    "llm = OpenAI(temperature=0)\n",
    "llm_math_chain = LLMMathChain.from_llm(llm=llm, verbose=True)\n",
    "tools = [\n",
    "    Tool(\n",
    "        name = \"Search\",\n",
    "        func=search.run,\n",
    "        description=\"useful for when you need to answer questions about current events\"\n",
    "    ),\n",
    "    Tool(\n",
    "        name=\"Calculator\",\n",
    "        func=llm_math_chain.run,\n",
    "        description=\"useful for when you need to answer questions about math\"\n",
    "    ),\n",
    "]\n",
    "model = ChatOpenAI(temperature=0)\n",
    "planner = load_chat_planner(model)\n",
    "executor = load_agent_executor(model, tools, verbose=True)\n",
    "agent = PlanAndExecute(planner=planner, executor=executor, verbose=True)\n",
    "\n",
    "agent.run(\"在纽约，100美元能买几束玫瑰?\")"
   ]
  }
 ],
 "metadata": {
  "kernelspec": {
   "display_name": "Python 3 (ipykernel)",
   "language": "python",
   "name": "python3"
  },
  "language_info": {
   "codemirror_mode": {
    "name": "ipython",
    "version": 3
   },
   "file_extension": ".py",
   "mimetype": "text/x-python",
   "name": "python",
   "nbconvert_exporter": "python",
   "pygments_lexer": "ipython3",
   "version": "3.9.6"
  }
 },
 "nbformat": 4,
 "nbformat_minor": 5
}
