{
 "cells": [
  {
   "cell_type": "code",
   "execution_count": null,
   "id": "ff10c3dd-f666-493f-845d-583d3a0bc6f8",
   "metadata": {},
   "outputs": [],
   "source": [
    "# 设置环境变量和API密钥\n",
    "import os\n",
    "os.environ[\"OPENAI_API_KEY\"] = '你的OpenAI API Key'"
   ]
  },
  {
   "cell_type": "code",
   "execution_count": null,
   "id": "8a33afa6-cc3f-4894-b2fb-6c0332b2c902",
   "metadata": {},
   "outputs": [],
   "source": [
    "# 创建聊天模型\n",
    "from langchain.chat_models import ChatOpenAI\n",
    "llm = ChatOpenAI(temperature=0)"
   ]
  },
  {
   "cell_type": "code",
   "execution_count": null,
   "id": "f5fac674-8499-4fc9-964b-8cbccaaac5f9",
   "metadata": {},
   "outputs": [],
   "source": [
    "# 设定 AI 的角色和目标\n",
    "role_template = \"你是一个为花店电商公司工作的AI助手, 你的目标是帮助客户根据他们的喜好做出明智的决定\"\n",
    "\n",
    "# CoT 的关键部分，AI 解释推理过程，并加入一些先前的对话示例（Few-Shot Learning）\n",
    "cot_template = \"\"\"\n",
    "作为一个为花店电商公司工作的AI助手，我的目标是帮助客户根据他们的喜好做出明智的决定。 \n",
    "\n",
    "我会按部就班的思考，先理解客户的需求，然后考虑各种鲜花的涵义，最后根据这个需求，给出我的推荐。\n",
    "同时，我也会向客户解释我这样推荐的原因。\n",
    "\n",
    "示例 1:\n",
    "  人类：我想找一种象征爱情的花。\n",
    "  AI：首先，我理解你正在寻找一种可以象征爱情的花。在许多文化中，红玫瑰被视为爱情的象征，这是因为它们的红色通常与热情和浓烈的感情联系在一起。因此，考虑到这一点，我会推荐红玫瑰。红玫瑰不仅能够象征爱情，同时也可以传达出强烈的感情，这是你在寻找的。\n",
    "\n",
    "示例 2:\n",
    "  人类：我想要一些独特和奇特的花。\n",
    "  AI：从你的需求中，我理解你想要的是独一无二和引人注目的花朵。兰花是一种非常独特并且颜色鲜艳的花，它们在世界上的许多地方都被视为奢侈品和美的象征。因此，我建议你考虑兰花。选择兰花可以满足你对独特和奇特的要求，而且，兰花的美丽和它们所代表的力量和奢侈也可能会吸引你。\n",
    "\"\"\"\n",
    "from langchain.prompts import ChatPromptTemplate, HumanMessagePromptTemplate, SystemMessagePromptTemplate\n",
    "system_prompt_role = SystemMessagePromptTemplate.from_template(role_template)\n",
    "system_prompt_cot = SystemMessagePromptTemplate.from_template(cot_template)"
   ]
  },
  {
   "cell_type": "code",
   "execution_count": null,
   "id": "ed7cd8ce-9a43-472e-b448-acdd1c02a879",
   "metadata": {},
   "outputs": [],
   "source": [
    "# 用户的询问\n",
    "human_template = \"{human_input}\"\n",
    "human_prompt = HumanMessagePromptTemplate.from_template(human_template)\n",
    "\n",
    "# 将以上所有信息结合为一个聊天提示\n",
    "chat_prompt = ChatPromptTemplate.from_messages([system_prompt_role, system_prompt_cot, human_prompt])\n",
    "\n",
    "prompt = chat_prompt.format_prompt(human_input=\"我想为我的女朋友购买一些花。她喜欢粉色和紫色。你有什么建议吗?\").to_messages()\n",
    "\n",
    "# 接收用户的询问，返回回答结果\n",
    "response = llm(prompt)\n",
    "print(response)"
   ]
  }
 ],
 "metadata": {
  "kernelspec": {
   "display_name": "Python 3 (ipykernel)",
   "language": "python",
   "name": "python3"
  },
  "language_info": {
   "codemirror_mode": {
    "name": "ipython",
    "version": 3
   },
   "file_extension": ".py",
   "mimetype": "text/x-python",
   "name": "python",
   "nbconvert_exporter": "python",
   "pygments_lexer": "ipython3",
   "version": "3.9.6"
  }
 },
 "nbformat": 4,
 "nbformat_minor": 5
}
