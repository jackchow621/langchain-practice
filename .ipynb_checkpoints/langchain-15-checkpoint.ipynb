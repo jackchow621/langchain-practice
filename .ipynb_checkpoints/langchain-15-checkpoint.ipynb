{
 "cells": [
  {
   "cell_type": "markdown",
   "id": "02fdceb9-7e97-46a4-af2d-c5ef690e0c2f",
   "metadata": {},
   "source": [
    "# 文档加载"
   ]
  },
  {
   "cell_type": "markdown",
   "id": "3654a635-0d57-4aa2-923e-a3148fe4763c",
   "metadata": {},
   "source": [
    "# 文本转换"
   ]
  },
  {
   "cell_type": "markdown",
   "id": "c8b4fe27-15ef-495b-9668-cfb8a6aa3505",
   "metadata": {},
   "source": [
    "# 文本分割器"
   ]
  },
  {
   "cell_type": "markdown",
   "id": "21424bb9-1973-459d-a73a-c48281a3033b",
   "metadata": {},
   "source": [
    "# 文本嵌入"
   ]
  },
  {
   "cell_type": "code",
   "execution_count": null,
   "id": "0966f777-9dff-4ce0-9aca-aae377225be0",
   "metadata": {},
   "outputs": [],
   "source": [
    "# 初始化Embedding类\n",
    "from langchain.embeddings import OpenAIEmbeddings\n",
    "embeddings_model = OpenAIEmbeddings()"
   ]
  },
  {
   "cell_type": "markdown",
   "id": "5393507a-92f4-4172-b93e-28263aa359d6",
   "metadata": {},
   "source": [
    "### embed_documents（文档创建嵌入）"
   ]
  },
  {
   "cell_type": "code",
   "execution_count": null,
   "id": "f8f31679-e1d2-4cc8-a2e3-f29180d8e7df",
   "metadata": {},
   "outputs": [],
   "source": [
    "embeddings = embeddings_model.embed_documents(\n",
    "    [\n",
    "        \"您好，有什么需要帮忙的吗？\",\n",
    "        \"哦，你好！昨天我订的花几天送达\",\n",
    "        \"请您提供一些订单号？\",\n",
    "        \"12345678\",\n",
    "    ]\n",
    ")\n",
    "len(embeddings), len(embeddings[0])"
   ]
  },
  {
   "cell_type": "markdown",
   "id": "005327ec-adad-4783-8b47-2ebb0f79a0f1",
   "metadata": {},
   "source": [
    "### embed_query（查询创建嵌入）"
   ]
  },
  {
   "cell_type": "code",
   "execution_count": null,
   "id": "ff4720e2-cd8c-4d9e-93ad-3dcbfdcc6f4f",
   "metadata": {},
   "outputs": [],
   "source": [
    "embedded_query = embeddings_model.embed_query(\"刚才对话中的订单号是多少?\")\n",
    "embedded_query[:3]"
   ]
  },
  {
   "cell_type": "markdown",
   "id": "8002f7fe-7c17-42d7-8d06-565b7c0a1c50",
   "metadata": {},
   "source": [
    "## 存储嵌入"
   ]
  },
  {
   "cell_type": "markdown",
   "id": "3d4503c3-6dd8-4707-96ca-bf83d836c5c2",
   "metadata": {},
   "source": [
    "## 缓存存储"
   ]
  },
  {
   "cell_type": "code",
   "execution_count": null,
   "id": "47688e1e-4b4e-42e1-bf38-fea77ae249af",
   "metadata": {},
   "outputs": [],
   "source": [
    "# 导入内存存储库，该库允许我们在RAM中临时存储数据\n",
    "from langchain.storage import InMemoryStore\n",
    "\n",
    "# 创建一个InMemoryStore的实例\n",
    "store = InMemoryStore()\n",
    "\n",
    "# 导入与嵌入相关的库。OpenAIEmbeddings是用于生成嵌入的工具，而CacheBackedEmbeddings允许我们缓存这些嵌入\n",
    "from langchain.embeddings import OpenAIEmbeddings, CacheBackedEmbeddings\n",
    "\n",
    "# 创建一个OpenAIEmbeddings的实例，这将用于实际计算文档的嵌入\n",
    "underlying_embeddings = OpenAIEmbeddings()\n",
    "\n",
    "# 创建一个CacheBackedEmbeddings的实例。\n",
    "# 这将为underlying_embeddings提供缓存功能，嵌入会被存储在上面创建的InMemoryStore中。\n",
    "# 我们还为缓存指定了一个命名空间，以确保不同的嵌入模型之间不会出现冲突。\n",
    "embedder = CacheBackedEmbeddings.from_bytes_store(\n",
    "    underlying_embeddings,  # 实际生成嵌入的工具\n",
    "    store,  # 嵌入的缓存位置\n",
    "    namespace=underlying_embeddings.model  # 嵌入缓存的命名空间\n",
    ")\n",
    "\n",
    "# 使用embedder为两段文本生成嵌入。\n",
    "# 结果，即嵌入向量，将被存储在上面定义的内存存储中。\n",
    "embeddings = embedder.embed_documents([\"你好\", \"智能鲜花客服\"])"
   ]
  },
  {
   "cell_type": "markdown",
   "id": "b02c7a13-56ba-428c-a20a-ce45f787ecf9",
   "metadata": {},
   "source": [
    "## 向量数据库（向量存储）"
   ]
  },
  {
   "cell_type": "markdown",
   "id": "ce943757-bc45-47ce-9324-49d5acecfe37",
   "metadata": {},
   "source": [
    "# 数据检索"
   ]
  },
  {
   "cell_type": "markdown",
   "id": "82b66143-adfd-4b15-b9f3-63304ecc3010",
   "metadata": {},
   "source": [
    "## 向量存储检索器"
   ]
  },
  {
   "cell_type": "code",
   "execution_count": null,
   "id": "aac30236-149a-492d-b730-33248caf0c47",
   "metadata": {},
   "outputs": [],
   "source": [
    "# 设置OpenAI的API密钥\n",
    "import os\n",
    "os.environ[\"OPENAI_API_KEY\"] = 'Your OpenAI Key'\n",
    "\n",
    "# 导入文档加载器模块，并使用TextLoader来加载文本文件\n",
    "from langchain.document_loaders import TextLoader\n",
    "loader = TextLoader('LangChainSamples/OneFlower/易速鲜花花语大全.txt', encoding='utf8')\n",
    "\n",
    "# 使用VectorstoreIndexCreator来从加载器创建索引\n",
    "from langchain.indexes import VectorstoreIndexCreator\n",
    "index = VectorstoreIndexCreator().from_loaders([loader])\n",
    "\n",
    "# 定义查询字符串, 使用创建的索引执行查询\n",
    "query = \"玫瑰花的花语是什么？\"\n",
    "result = index.query(query)\n",
    "print(result) # 打印查询结果"
   ]
  },
  {
   "cell_type": "code",
   "execution_count": null,
   "id": "ca2b0df0-25d7-4c49-a092-dc976bc96db7",
   "metadata": {},
   "outputs": [],
   "source": [
    "from langchain.text_splitter import CharacterTextSplitter\n",
    "text_splitter = CharacterTextSplitter(chunk_size=1000, chunk_overlap=0)\n",
    "from langchain.vectorstores import Chroma\n",
    "from langchain.embeddings import OpenAIEmbeddings\n",
    "embeddings = OpenAIEmbeddings()\n",
    "index_creator = VectorstoreIndexCreator(\n",
    "    vectorstore_cls=Chroma,\n",
    "    embedding=OpenAIEmbeddings(),\n",
    "    text_splitter=CharacterTextSplitter(chunk_size=1000, chunk_overlap=0)\n",
    ")"
   ]
  }
 ],
 "metadata": {
  "kernelspec": {
   "display_name": "Python 3 (ipykernel)",
   "language": "python",
   "name": "python3"
  },
  "language_info": {
   "codemirror_mode": {
    "name": "ipython",
    "version": 3
   },
   "file_extension": ".py",
   "mimetype": "text/x-python",
   "name": "python",
   "nbconvert_exporter": "python",
   "pygments_lexer": "ipython3",
   "version": "3.9.6"
  }
 },
 "nbformat": 4,
 "nbformat_minor": 5
}
