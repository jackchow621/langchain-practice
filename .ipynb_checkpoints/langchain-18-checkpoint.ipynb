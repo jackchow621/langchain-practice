{
 "cells": [
  {
   "cell_type": "markdown",
   "id": "b268b565-fcce-48a8-8e3d-36253bbc94cc",
   "metadata": {},
   "source": [
    "# 易速鲜花营销方案"
   ]
  },
  {
   "cell_type": "code",
   "execution_count": null,
   "id": "07319203-b863-4678-92ed-04b77e42bdbe",
   "metadata": {},
   "outputs": [],
   "source": [
    "# 设置OpenAI API密钥\n",
    "import os\n",
    "os.environ[\"OPENAI_API_KEY\"] = 'Your Key'\n",
    "\n",
    "# 导入所需的库\n",
    "from typing import List\n",
    "from langchain.chat_models import ChatOpenAI\n",
    "from langchain.prompts.chat import (\n",
    "    SystemMessagePromptTemplate,\n",
    "    HumanMessagePromptTemplate,\n",
    ")\n",
    "from langchain.schema import (\n",
    "    AIMessage,\n",
    "    HumanMessage,\n",
    "    SystemMessage,\n",
    "    BaseMessage,\n",
    ")"
   ]
  },
  {
   "cell_type": "markdown",
   "id": "06b8bdcd-cb56-42a9-975a-c6556da3107c",
   "metadata": {},
   "source": [
    "# 定义 CAMELAgent 类"
   ]
  },
  {
   "cell_type": "code",
   "execution_count": null,
   "id": "ccff23c4-c953-4bd0-aa34-db537da2f9be",
   "metadata": {},
   "outputs": [],
   "source": [
    "# 定义CAMELAgent类，用于管理与语言模型的交互\n",
    "class CAMELAgent:\n",
    "    def __init__(\n",
    "        self,\n",
    "        system_message: SystemMessage,\n",
    "        model: ChatOpenAI,\n",
    "    ) -> None:\n",
    "        self.system_message = system_message\n",
    "        self.model = model\n",
    "        self.init_messages()\n",
    "\n",
    "    def reset(self) -> None:\n",
    "        \"\"\"重置对话消息\"\"\"\n",
    "        self.init_messages()\n",
    "        return self.stored_messages\n",
    "\n",
    "    def init_messages(self) -> None:\n",
    "        \"\"\"初始化对话消息\"\"\"\n",
    "        self.stored_messages = [self.system_message]\n",
    "\n",
    "    def update_messages(self, message: BaseMessage) -> List[BaseMessage]:\n",
    "        \"\"\"更新对话消息列表\"\"\"\n",
    "        self.stored_messages.append(message)\n",
    "        return self.stored_messages\n",
    "\n",
    "    def step(self, input_message: HumanMessage) -> AIMessage:\n",
    "        \"\"\"进行一步交互，并获取模型的响应\"\"\"\n",
    "        messages = self.update_messages(input_message)\n",
    "\n",
    "        output_message = self.model(messages)\n",
    "        self.update_messages(output_message)\n",
    "\n",
    "        return output_message"
   ]
  },
  {
   "cell_type": "markdown",
   "id": "27926625-e2f3-44de-8c8d-c7a654457b10",
   "metadata": {},
   "source": [
    "# 预设角色和任务提示"
   ]
  },
  {
   "cell_type": "code",
   "execution_count": null,
   "id": "42c7c42f-0621-4d19-97c2-6003029f591c",
   "metadata": {},
   "outputs": [],
   "source": [
    "# 设置一些预设的角色和任务提示\n",
    "assistant_role_name = \"花店营销专员\"\n",
    "user_role_name = \"花店老板\"\n",
    "task = \"整理出一个夏季玫瑰之夜的营销活动的策略\"\n",
    "# 每次讨论的字数限制\n",
    "word_limit = 50"
   ]
  },
  {
   "cell_type": "markdown",
   "id": "5d8cfb20-aae2-4e6e-9271-bf89dc5592f9",
   "metadata": {},
   "source": [
    "# 任务指定代理"
   ]
  },
  {
   "cell_type": "code",
   "execution_count": null,
   "id": "e5e59fc1-44ac-40c4-802c-f00a062f564b",
   "metadata": {},
   "outputs": [],
   "source": [
    "# 定义与指定任务相关的系统提示\n",
    "task_specifier_sys_msg = SystemMessage(content=\"你可以让任务更具体。\")\n",
    "task_specifier_prompt = \"\"\"这是一个{assistant_role_name}将帮助{user_role_name}完成的任务：{task}。\n",
    "请使其更具体化。请发挥你的创意和想象力。\n",
    "请用{word_limit}个或更少的词回复具体的任务。不要添加其他任何内容。\"\"\"\n",
    "\n",
    "task_specifier_template = HumanMessagePromptTemplate.from_template(\n",
    "    template=task_specifier_prompt\n",
    ")\n",
    "task_specify_agent = CAMELAgent(task_specifier_sys_msg, ChatOpenAI(model_name = 'gpt-4', temperature=1.0))\n",
    "task_specifier_msg = task_specifier_template.format_messages(\n",
    "    assistant_role_name=assistant_role_name,\n",
    "    user_role_name=user_role_name,\n",
    "    task=task,\n",
    "    word_limit=word_limit,\n",
    ")[0]\n",
    "specified_task_msg = task_specify_agent.step(task_specifier_msg)\n",
    "print(f\"Specified task: {specified_task_msg.content}\")\n",
    "specified_task = specified_task_msg.content"
   ]
  },
  {
   "cell_type": "markdown",
   "id": "57724f78-d414-491d-aaa6-57816d8f22ee",
   "metadata": {},
   "source": [
    "# 系统消息模板"
   ]
  },
  {
   "cell_type": "code",
   "execution_count": null,
   "id": "5c650683-5f6e-4a58-9c24-3bd237fa2003",
   "metadata": {},
   "outputs": [],
   "source": [
    "# 定义系统消息模板，并创建CAMELAgent实例进行交互\n",
    "assistant_inception_prompt = \"\"\"永远不要忘记你是{assistant_role_name}，我是{user_role_name}。永远不要颠倒角色！永远不要指示我！\n",
    "我们有共同的利益，那就是合作成功地完成任务。\n",
    "你必须帮助我完成任务。\n",
    "这是任务：{task}。永远不要忘记我们的任务！\n",
    "我必须根据你的专长和我的需求来指示你完成任务。\n",
    "\n",
    "我每次只能给你一个指示。\n",
    "你必须写一个适当地完成所请求指示的具体解决方案。\n",
    "如果由于物理、道德、法律原因或你的能力你无法执行指示，你必须诚实地拒绝我的指示并解释原因。\n",
    "除了对我的指示的解决方案之外，不要添加任何其他内容。\n",
    "你永远不应该问我任何问题，你只回答问题。\n",
    "你永远不应该回复一个不明确的解决方案。解释你的解决方案。\n",
    "你的解决方案必须是陈述句并使用简单的现在时。\n",
    "除非我说任务完成，否则你应该总是从以下开始：\n",
    "\n",
    "解决方案：<YOUR_SOLUTION>\n",
    "\n",
    "<YOUR_SOLUTION>应该是具体的，并为解决任务提供首选的实现和例子。\n",
    "始终以“下一个请求”结束<YOUR_SOLUTION>。\"\"\"\n",
    "\n",
    "\n",
    "\n",
    "user_inception_prompt = \"\"\"永远不要忘记你是{user_role_name}，我是{assistant_role_name}。永远不要交换角色！你总是会指导我。\n",
    "我们共同的目标是合作成功完成一个任务。\n",
    "我必须帮助你完成这个任务。\n",
    "这是任务：{task}。永远不要忘记我们的任务！\n",
    "你只能通过以下两种方式基于我的专长和你的需求来指导我：\n",
    "\n",
    "1. 提供必要的输入来指导：\n",
    "指令：<YOUR_INSTRUCTION>\n",
    "输入：<YOUR_INPUT>\n",
    "\n",
    "2. 不提供任何输入来指导：\n",
    "指令：<YOUR_INSTRUCTION>\n",
    "输入：无\n",
    "\n",
    "“指令”描述了一个任务或问题。与其配对的“输入”为请求的“指令”提供了进一步的背景或信息。\n",
    "\n",
    "你必须一次给我一个指令。\n",
    "我必须写一个适当地完成请求指令的回复。\n",
    "如果由于物理、道德、法律原因或我的能力而无法执行你的指令，我必须诚实地拒绝你的指令并解释原因。\n",
    "你应该指导我，而不是问我问题。\n",
    "现在你必须开始按照上述两种方式指导我。\n",
    "除了你的指令和可选的相应输入之外，不要添加任何其他内容！\n",
    "继续给我指令和必要的输入，直到你认为任务已经完成。\n",
    "当任务完成时，你只需回复一个单词<CAMEL_TASK_DONE>。\n",
    "除非我的回答已经解决了你的任务，否则永远不要说<CAMEL_TASK_DONE>。\"\"\""
   ]
  },
  {
   "cell_type": "code",
   "execution_count": null,
   "id": "bcd96667-e5e3-421d-a877-b92b1d3d1ff0",
   "metadata": {},
   "outputs": [],
   "source": [
    "# 根据预设的角色和任务提示生成系统消息\n",
    "def get_sys_msgs(assistant_role_name: str, user_role_name: str, task: str):\n",
    "    assistant_sys_template = SystemMessagePromptTemplate.from_template(\n",
    "        template=assistant_inception_prompt\n",
    "    )\n",
    "    assistant_sys_msg = assistant_sys_template.format_messages(\n",
    "        assistant_role_name=assistant_role_name,\n",
    "        user_role_name=user_role_name,\n",
    "        task=task,\n",
    "    )[0]\n",
    "\n",
    "    user_sys_template = SystemMessagePromptTemplate.from_template(\n",
    "        template=user_inception_prompt\n",
    "    )\n",
    "    user_sys_msg = user_sys_template.format_messages(\n",
    "        assistant_role_name=assistant_role_name,\n",
    "        user_role_name=user_role_name,\n",
    "        task=task,\n",
    "    )[0]\n",
    "\n",
    "    return assistant_sys_msg, user_sys_msg\n",
    "\n",
    "assistant_sys_msg, user_sys_msg = get_sys_msgs(\n",
    "    assistant_role_name, user_role_name, specified_task\n",
    ")"
   ]
  },
  {
   "cell_type": "markdown",
   "id": "dc1c1df6-fd1f-4adc-988a-5ea8c8c0062e",
   "metadata": {},
   "source": [
    "# 创建 Agent 实例"
   ]
  },
  {
   "cell_type": "code",
   "execution_count": null,
   "id": "bb87e09a-6b83-4cbc-9efd-a8bdf5a1f7f9",
   "metadata": {},
   "outputs": [],
   "source": [
    "# 创建助手和用户的CAMELAgent实例\n",
    "assistant_agent = CAMELAgent(assistant_sys_msg, ChatOpenAI(temperature=0.2))\n",
    "user_agent = CAMELAgent(user_sys_msg, ChatOpenAI(temperature=0.2))\n",
    "\n",
    "# 重置两个agent\n",
    "assistant_agent.reset()\n",
    "user_agent.reset()\n",
    "\n",
    "# 初始化对话互动\n",
    "assistant_msg = HumanMessage(\n",
    "    content=(\n",
    "        f\"{user_sys_msg.content}。\"\n",
    "        \"现在开始逐一给我介绍。\"\n",
    "        \"只回复指令和输入。\"\n",
    "    )\n",
    ")\n",
    "\n",
    "user_msg = HumanMessage(content=f\"{assistant_sys_msg.content}\")\n",
    "user_msg = assistant_agent.step(user_msg)\n",
    "\n",
    "print(f\"Original task prompt:\\n{task}\\n\")\n",
    "print(f\"Specified task prompt:\\n{specified_task}\\n\")"
   ]
  },
  {
   "cell_type": "markdown",
   "id": "41b506dd-191a-45ae-841b-3e702407c65c",
   "metadata": {},
   "source": [
    "# 头脑风暴开始"
   ]
  },
  {
   "cell_type": "code",
   "execution_count": null,
   "id": "942e14ab-c8d8-41bc-8967-30b21cd265bc",
   "metadata": {},
   "outputs": [],
   "source": [
    "# 模拟对话交互，直到达到对话轮次上限或任务完成\n",
    "chat_turn_limit, n = 30, 0\n",
    "while n < chat_turn_limit:\n",
    "    n += 1\n",
    "    user_ai_msg = user_agent.step(assistant_msg)\n",
    "    user_msg = HumanMessage(content=user_ai_msg.content)\n",
    "    print(f\"AI User ({user_role_name}):\\n\\n{user_msg.content}\\n\\n\")\n",
    "\n",
    "    assistant_ai_msg = assistant_agent.step(user_msg)\n",
    "    assistant_msg = HumanMessage(content=assistant_ai_msg.content)\n",
    "    print(f\"AI Assistant ({assistant_role_name}):\\n\\n{assistant_msg.content}\\n\\n\")\n",
    "    if \"<CAMEL_TASK_DONE>\" in user_msg.content:\n",
    "        break"
   ]
  }
 ],
 "metadata": {
  "kernelspec": {
   "display_name": "Python 3 (ipykernel)",
   "language": "python",
   "name": "python3"
  },
  "language_info": {
   "codemirror_mode": {
    "name": "ipython",
    "version": 3
   },
   "file_extension": ".py",
   "mimetype": "text/x-python",
   "name": "python",
   "nbconvert_exporter": "python",
   "pygments_lexer": "ipython3",
   "version": "3.9.6"
  }
 },
 "nbformat": 4,
 "nbformat_minor": 5
}
