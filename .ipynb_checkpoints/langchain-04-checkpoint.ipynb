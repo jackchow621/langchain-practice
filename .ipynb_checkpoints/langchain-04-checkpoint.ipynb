{
 "cells": [
  {
   "cell_type": "markdown",
   "id": "9c90d643-b5fc-4da0-929d-654fb21073e9",
   "metadata": {},
   "source": [
    "# PromptTemplate使用"
   ]
  },
  {
   "cell_type": "code",
   "execution_count": null,
   "id": "8102e5e4-192f-4b8e-8910-8807e3778f6d",
   "metadata": {},
   "outputs": [],
   "source": [
    "from langchain import PromptTemplate\n",
    "\n",
    "template = \"\"\"\\\n",
    "你是业务咨询顾问。\n",
    "你给一个销售{product}的电商公司，起一个好的名字？\n",
    "\"\"\"\n",
    "prompt = PromptTemplate.from_template(template)\n",
    "\n",
    "print(prompt.format(product=\"鲜花\"))"
   ]
  },
  {
   "cell_type": "markdown",
   "id": "888f2722-ace1-4000-99d5-a03825d6cf52",
   "metadata": {},
   "source": [
    "### 或者"
   ]
  },
  {
   "cell_type": "code",
   "execution_count": null,
   "id": "eaf90f77-73c9-4d9b-83a0-29a23ac72647",
   "metadata": {},
   "outputs": [],
   "source": [
    "prompt = PromptTemplate(\n",
    "    input_variables=[\"product\", \"market\"], \n",
    "    template=\"你是业务咨询顾问。对于一个面向{market}市场的，专注于销售{product}的公司，你会推荐哪个名字？\"\n",
    ")\n",
    "print(prompt.format(product=\"鲜花\", market=\"高端\"))"
   ]
  },
  {
   "cell_type": "markdown",
   "id": "cf8cd6fb-791e-4c27-aa50-ec551cf5cfcc",
   "metadata": {},
   "source": [
    "# ChatPromptTemplate使用"
   ]
  },
  {
   "cell_type": "code",
   "execution_count": null,
   "id": "8075516f-6fe0-469e-a135-fbb313b3f43e",
   "metadata": {},
   "outputs": [],
   "source": [
    "# 下面调用模型，把提示传入模型，生成结果\n",
    "import os\n",
    "os.environ[\"OPENAI_API_KEY\"] = '你的OpenAI Key'"
   ]
  },
  {
   "cell_type": "code",
   "execution_count": null,
   "id": "c21291d9-56c3-4166-bfc9-85c15d55256b",
   "metadata": {},
   "outputs": [],
   "source": [
    "import openai\n",
    "openai.ChatCompletion.create(\n",
    "  model=\"gpt-3.5-turbo\",\n",
    "  messages=[\n",
    "        {\"role\": \"system\", \"content\": \"You are a helpful assistant.\"},\n",
    "        {\"role\": \"user\", \"content\": \"Who won the world series in 2020?\"},\n",
    "        {\"role\": \"assistant\", \"content\": \"The Los Angeles Dodgers won the World Series in 2020.\"},\n",
    "        {\"role\": \"user\", \"content\": \"Where was it played?\"}\n",
    "    ]\n",
    ")"
   ]
  },
  {
   "cell_type": "code",
   "execution_count": null,
   "id": "214380bb-9cc8-4b56-a211-15a7ef28f30b",
   "metadata": {},
   "outputs": [],
   "source": [
    "# 导入聊天消息类模板\n",
    "from langchain.prompts import (\n",
    "    ChatPromptTemplate,\n",
    "    SystemMessagePromptTemplate,\n",
    "    HumanMessagePromptTemplate,\n",
    ")\n",
    "# 模板的构建\n",
    "template=\"你是一位专业顾问，负责为专注于{product}的公司起名。\"\n",
    "system_message_prompt = SystemMessagePromptTemplate.from_template(template)\n",
    "human_template=\"公司主打产品是{product_detail}。\"\n",
    "human_message_prompt = HumanMessagePromptTemplate.from_template(human_template)\n",
    "prompt_template = ChatPromptTemplate.from_messages([system_message_prompt, human_message_prompt])\n",
    "\n",
    "# 格式化提示消息生成提示\n",
    "prompt = prompt_template.format_prompt(product=\"鲜花装饰\", product_detail=\"创新的鲜花设计。\").to_messages()"
   ]
  },
  {
   "cell_type": "code",
   "execution_count": null,
   "id": "599b8c3b-e34a-4a8e-be56-48075c0cab5e",
   "metadata": {},
   "outputs": [],
   "source": [
    "\n",
    "from langchain.chat_models import ChatOpenAI\n",
    "chat = ChatOpenAI()\n",
    "result = chat(prompt)\n",
    "print(result)"
   ]
  },
  {
   "cell_type": "markdown",
   "id": "be08514d-6271-4559-a12e-afc8c5723149",
   "metadata": {},
   "source": [
    "# FewShotPromptTemplate使用"
   ]
  },
  {
   "cell_type": "markdown",
   "id": "ea5f90cd-9794-463a-a0d0-6ab6a0044817",
   "metadata": {},
   "source": [
    "### 1. 创建一些示例"
   ]
  },
  {
   "cell_type": "code",
   "execution_count": null,
   "id": "dd96160a-5ebf-4c0b-a215-582898f398b7",
   "metadata": {},
   "outputs": [],
   "source": [
    "samples = [\n",
    "  {\n",
    "    \"flower_type\": \"玫瑰\",\n",
    "    \"occasion\": \"爱情\",\n",
    "    \"ad_copy\": \"玫瑰，浪漫的象征，是你向心爱的人表达爱意的最佳选择。\"\n",
    "  },\n",
    "  {\n",
    "    \"flower_type\": \"康乃馨\",\n",
    "    \"occasion\": \"母亲节\",\n",
    "    \"ad_copy\": \"康乃馨代表着母爱的纯洁与伟大，是母亲节赠送给母亲的完美礼物。\"\n",
    "  },\n",
    "  {\n",
    "    \"flower_type\": \"百合\",\n",
    "    \"occasion\": \"庆祝\",\n",
    "    \"ad_copy\": \"百合象征着纯洁与高雅，是你庆祝特殊时刻的理想选择。\"\n",
    "  },\n",
    "  {\n",
    "    \"flower_type\": \"向日葵\",\n",
    "    \"occasion\": \"鼓励\",\n",
    "    \"ad_copy\": \"向日葵象征着坚韧和乐观，是你鼓励亲朋好友的最好方式。\"\n",
    "  }\n",
    "]"
   ]
  },
  {
   "cell_type": "markdown",
   "id": "3e9de62e-3bf3-489e-a2e4-4b8c092d3be6",
   "metadata": {},
   "source": [
    "### 2. 创建一个提示模板"
   ]
  },
  {
   "cell_type": "code",
   "execution_count": null,
   "id": "b654bd66-ada6-41c4-a8f5-5ff917eacc0f",
   "metadata": {},
   "outputs": [],
   "source": [
    "\n",
    "from langchain.prompts.prompt import PromptTemplate\n",
    "template=\"鲜花类型: {flower_type}\\n场合: {occasion}\\n文案: {ad_copy}\"\n",
    "prompt_sample = PromptTemplate(input_variables=[\"flower_type\", \"occasion\", \"ad_copy\"], \n",
    "                               template=template)\n",
    "print(prompt_sample.format(**samples[0]))"
   ]
  },
  {
   "cell_type": "markdown",
   "id": "4c0543c2-0744-46d2-9456-64fb31c9a545",
   "metadata": {},
   "source": [
    "### 3. 创建一个FewShotPromptTemplate对象"
   ]
  },
  {
   "cell_type": "code",
   "execution_count": null,
   "id": "6c09886e-7396-428c-8d55-b27d9c4c6b77",
   "metadata": {},
   "outputs": [],
   "source": [
    "\n",
    "from langchain.prompts.few_shot import FewShotPromptTemplate\n",
    "prompt = FewShotPromptTemplate(\n",
    "    examples=samples,\n",
    "    example_prompt=prompt_sample,\n",
    "    suffix=\"鲜花类型: {flower_type}\\n场合: {occasion}\",\n",
    "    input_variables=[\"flower_type\", \"occasion\"]\n",
    ")\n",
    "print(prompt.format(flower_type=\"野玫瑰\", occasion=\"爱情\"))"
   ]
  },
  {
   "cell_type": "markdown",
   "id": "55dfc12b-9a33-45ff-ace4-a890ccf1e384",
   "metadata": {},
   "source": [
    "### 4. 把提示传递给大模型"
   ]
  },
  {
   "cell_type": "code",
   "execution_count": null,
   "id": "a81b04e7-d1d9-4038-83ee-9cdbce6670a0",
   "metadata": {},
   "outputs": [],
   "source": [
    "from langchain.llms import OpenAI\n",
    "model = OpenAI(model_name='gpt-3.5-turbo-instruct')\n",
    "result = model(prompt.format(flower_type=\"野玫瑰\", occasion=\"爱情\"))\n",
    "print(result)"
   ]
  },
  {
   "cell_type": "markdown",
   "id": "63fb3160-f822-4938-a842-e1b16e5dc3f2",
   "metadata": {},
   "source": [
    "# 示例选择器使用"
   ]
  },
  {
   "cell_type": "code",
   "execution_count": null,
   "id": "cd86d0d9-21da-4f82-9e1e-dd193a5b4d85",
   "metadata": {},
   "outputs": [],
   "source": [
    "# 5. 使用示例选择器\n",
    "from langchain.prompts.example_selector import SemanticSimilarityExampleSelector\n",
    "from langchain.vectorstores import Chroma\n",
    "from langchain.embeddings import OpenAIEmbeddings\n",
    "\n",
    "# 初始化示例选择器\n",
    "example_selector = SemanticSimilarityExampleSelector.from_examples(\n",
    "    samples,\n",
    "    OpenAIEmbeddings(),\n",
    "    Chroma,\n",
    "    k=1\n",
    ")\n",
    "\n",
    "# 创建一个使用示例选择器的FewShotPromptTemplate对象\n",
    "prompt = FewShotPromptTemplate(\n",
    "    example_selector=example_selector, \n",
    "    example_prompt=prompt_sample, \n",
    "    suffix=\"鲜花类型: {flower_type}\\n场合: {occasion}\", \n",
    "    input_variables=[\"flower_type\", \"occasion\"]\n",
    ")\n",
    "print(prompt.format(flower_type=\"红玫瑰\", occasion=\"爱情\"))"
   ]
  }
 ],
 "metadata": {
  "kernelspec": {
   "display_name": "Python 3 (ipykernel)",
   "language": "python",
   "name": "python3"
  },
  "language_info": {
   "codemirror_mode": {
    "name": "ipython",
    "version": 3
   },
   "file_extension": ".py",
   "mimetype": "text/x-python",
   "name": "python",
   "nbconvert_exporter": "python",
   "pygments_lexer": "ipython3",
   "version": "3.9.6"
  }
 },
 "nbformat": 4,
 "nbformat_minor": 5
}
