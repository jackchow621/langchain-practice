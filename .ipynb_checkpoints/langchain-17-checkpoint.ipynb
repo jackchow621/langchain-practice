{
 "cells": [
  {
   "cell_type": "markdown",
   "id": "83209f1e-4e02-41b6-a8cc-584763d270d7",
   "metadata": {},
   "source": [
    "# 在组件中使用回调处理器"
   ]
  },
  {
   "cell_type": "code",
   "execution_count": null,
   "id": "bf1128a3-bdc5-4631-a25e-467166273b32",
   "metadata": {},
   "outputs": [],
   "source": [
    "from loguru import logger\n",
    "\n",
    "from langchain.callbacks import FileCallbackHandler\n",
    "from langchain.chains import LLMChain\n",
    "from langchain.llms import OpenAI\n",
    "from langchain.prompts import PromptTemplate\n",
    "\n",
    "logfile = \"output.log\"\n",
    "\n",
    "logger.add(logfile, colorize=True, enqueue=True)\n",
    "handler = FileCallbackHandler(logfile)\n",
    "\n",
    "llm = OpenAI()\n",
    "prompt = PromptTemplate.from_template(\"1 + {number} = \")\n",
    "\n",
    "# this chain will both print to stdout (because verbose=True) and write to 'output.log'\n",
    "# if verbose=False, the FileCallbackHandler will still write to 'output.log'\n",
    "chain = LLMChain(llm=llm, prompt=prompt, callbacks=[handler], verbose=True)\n",
    "answer = chain.run(number=2)\n",
    "logger.info(answer)"
   ]
  },
  {
   "cell_type": "markdown",
   "id": "775673e9-dffe-4c5c-8ac3-0b8171da05d3",
   "metadata": {},
   "source": [
    "# 自定义回调函数"
   ]
  },
  {
   "cell_type": "code",
   "execution_count": null,
   "id": "19a900d9-7c76-4bd2-ae5b-6736db0871ce",
   "metadata": {},
   "outputs": [],
   "source": [
    "import asyncio\n",
    "from typing import Any, Dict, List\n",
    "\n",
    "from langchain.chat_models import ChatOpenAI\n",
    "from langchain.schema import LLMResult, HumanMessage\n",
    "from langchain.callbacks.base import AsyncCallbackHandler, BaseCallbackHandler\n",
    "\n",
    "# 创建同步回调处理器\n",
    "class MyFlowerShopSyncHandler(BaseCallbackHandler):\n",
    "    def on_llm_new_token(self, token: str, **kwargs) -> None:\n",
    "        print(f\"获取花卉数据: token: {token}\")\n",
    "\n",
    "# 创建异步回调处理器\n",
    "class MyFlowerShopAsyncHandler(AsyncCallbackHandler):\n",
    "\n",
    "    async def on_llm_start(\n",
    "        self, serialized: Dict[str, Any], prompts: List[str], **kwargs: Any\n",
    "    ) -> None:\n",
    "        print(\"正在获取花卉数据...\")\n",
    "        await asyncio.sleep(0.5)  # 模拟异步操作\n",
    "        print(\"花卉数据获取完毕。提供建议...\")\n",
    "\n",
    "    async def on_llm_end(self, response: LLMResult, **kwargs: Any) -> None:\n",
    "        print(\"整理花卉建议...\")\n",
    "        await asyncio.sleep(0.5)  # 模拟异步操作\n",
    "        print(\"祝你今天愉快！\")\n",
    "\n",
    "# 主要的异步函数\n",
    "async def main():\n",
    "    flower_shop_chat = ChatOpenAI(\n",
    "        max_tokens=100,\n",
    "        streaming=True,\n",
    "        callbacks=[MyFlowerShopSyncHandler(), MyFlowerShopAsyncHandler()],\n",
    "    )\n",
    "\n",
    "    # 异步生成聊天回复\n",
    "    await flower_shop_chat.agenerate([[HumanMessage(content=\"哪种花卉最适合生日？只简单说3种，不超过50字\")]])\n",
    "\n",
    "# 运行主异步函数\n",
    "asyncio.run(main())"
   ]
  },
  {
   "cell_type": "markdown",
   "id": "64edffe3-66c6-42c8-9e4c-638fb5d48e8c",
   "metadata": {},
   "source": [
    "# 用 get_openai_callback 构造令牌计数器"
   ]
  },
  {
   "cell_type": "code",
   "execution_count": null,
   "id": "77bcfe77-a2f5-42c8-b553-ff67e1400e64",
   "metadata": {},
   "outputs": [],
   "source": [
    "from langchain import OpenAI\n",
    "\n",
    "# 初始化大语言模型\n",
    "llm = OpenAI(\n",
    "    temperature=0.5,\n",
    "    model_name=\"gpt-3.5-turbo-instruct\")"
   ]
  },
  {
   "cell_type": "code",
   "execution_count": null,
   "id": "114d2050-4329-4b8f-ac83-48f7f5697df4",
   "metadata": {},
   "outputs": [],
   "source": [
    "from langchain.chains import ConversationChain\n",
    "from langchain.chains.conversation.memory import ConversationBufferMemory\n",
    "\n",
    "# 初始化对话链\n",
    "conversation = ConversationChain(\n",
    "    llm=llm,\n",
    "    memory=ConversationBufferMemory()\n",
    ")\n",
    "\n",
    "# 第一天的对话\n",
    "# 回合1\n",
    "conversation(\"我姐姐明天要过生日，我需要一束生日花束。\")\n",
    "print(\"第一次对话后的记忆:\", conversation.memory.buffer)\n",
    "\n",
    "# 回合2\n",
    "conversation(\"她喜欢粉色玫瑰，颜色是粉色的。\")\n",
    "print(\"第二次对话后的记忆:\", conversation.memory.buffer)\n",
    "\n",
    "# 回合3 （第二天的对话）\n",
    "conversation(\"我又来了，还记得我昨天为什么要来买花吗？\")\n",
    "print(\"/n第三次对话后时提示:/n\",conversation.prompt.template)\n",
    "print(\"/n第三次对话后的记忆:/n\", conversation.memory.buffer)"
   ]
  },
  {
   "cell_type": "code",
   "execution_count": null,
   "id": "bd9de49b-0763-4012-988a-51435b9da92b",
   "metadata": {},
   "outputs": [],
   "source": [
    "from langchain.chains import ConversationChain\n",
    "from langchain.chains.conversation.memory import ConversationBufferMemory\n",
    "from langchain.callbacks import get_openai_callback\n",
    "\n",
    "# 初始化对话链\n",
    "conversation = ConversationChain(\n",
    "    llm=llm,\n",
    "    memory=ConversationBufferMemory()\n",
    ")\n",
    "\n",
    "# 使用context manager进行token counting\n",
    "with get_openai_callback() as cb:\n",
    "    # 第一天的对话\n",
    "    # 回合1\n",
    "    conversation(\"我姐姐明天要过生日，我需要一束生日花束。\")\n",
    "    print(\"第一次对话后的记忆:\", conversation.memory.buffer)\n",
    "\n",
    "    # 回合2\n",
    "    conversation(\"她喜欢粉色玫瑰，颜色是粉色的。\")\n",
    "    print(\"第二次对话后的记忆:\", conversation.memory.buffer)\n",
    "\n",
    "    # 回合3 （第二天的对话）\n",
    "    conversation(\"我又来了，还记得我昨天为什么要来买花吗？\")\n",
    "    print(\"/n第三次对话后时提示:/n\",conversation.prompt.template)\n",
    "    print(\"/n第三次对话后的记忆:/n\", conversation.memory.buffer)\n",
    "\n",
    "# 输出使用的tokens\n",
    "print(\"\\n总计使用的tokens:\", cb.total_tokens)"
   ]
  },
  {
   "cell_type": "code",
   "execution_count": null,
   "id": "2f1aae57-11b1-4b6f-bbe0-dabbd7a06d62",
   "metadata": {},
   "outputs": [],
   "source": [
    "import asyncio\n",
    "# 进行更多的异步交互和token计数\n",
    "async def additional_interactions():\n",
    "    with get_openai_callback() as cb:\n",
    "        await asyncio.gather(\n",
    "            *[llm.agenerate([\"我姐姐喜欢什么颜色的花？\"]) for _ in range(3)]\n",
    "        )\n",
    "    print(\"\\n另外的交互中使用的tokens:\", cb.total_tokens)\n",
    "\n",
    "# 运行异步函数\n",
    "asyncio.run(additional_interactions())"
   ]
  }
 ],
 "metadata": {
  "kernelspec": {
   "display_name": "Python 3 (ipykernel)",
   "language": "python",
   "name": "python3"
  },
  "language_info": {
   "codemirror_mode": {
    "name": "ipython",
    "version": 3
   },
   "file_extension": ".py",
   "mimetype": "text/x-python",
   "name": "python",
   "nbconvert_exporter": "python",
   "pygments_lexer": "ipython3",
   "version": "3.9.6"
  }
 },
 "nbformat": 4,
 "nbformat_minor": 5
}
