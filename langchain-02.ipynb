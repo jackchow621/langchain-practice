{
 "cells": [
  {
   "cell_type": "code",
   "execution_count": null,
   "id": "ef8c0cc5-101a-4410-9782-1d4b0c8c7c5b",
   "metadata": {},
   "outputs": [],
   "source": [
    "import os\n",
    "os.environ[\"OPENAI_API_KEY\"] = '你的Open AI API Key'"
   ]
  },
  {
   "cell_type": "code",
   "execution_count": null,
   "id": "b04cf419-9d98-4e40-b826-2abc3944798d",
   "metadata": {},
   "outputs": [],
   "source": [
    "# 1.Load 导入Document Loaders\n",
    "from langchain.document_loaders import PyPDFLoader\n",
    "from langchain.document_loaders import Docx2txtLoader\n",
    "from langchain.document_loaders import TextLoader"
   ]
  },
  {
   "cell_type": "code",
   "execution_count": null,
   "id": "b2773757-c036-4fe1-a42a-92fa89cce0a7",
   "metadata": {},
   "outputs": [],
   "source": [
    "# 加载Documents\n",
    "base_dir = '.\\OneFlower' # 文档的存放目录\n",
    "documents = []\n",
    "for file in os.listdir(base_dir): \n",
    "    # 构建完整的文件路径\n",
    "    file_path = os.path.join(base_dir, file)\n",
    "    if file.endswith('.pdf'):\n",
    "        loader = PyPDFLoader(file_path)\n",
    "        documents.extend(loader.load())\n",
    "    elif file.endswith('.docx'): \n",
    "        loader = Docx2txtLoader(file_path)\n",
    "        documents.extend(loader.load())\n",
    "    elif file.endswith('.txt'):\n",
    "        loader = TextLoader(file_path)\n",
    "        documents.extend(loader.load())"
   ]
  },
  {
   "cell_type": "code",
   "execution_count": null,
   "id": "a90e94ce-8560-41c0-8c72-ce3b5fae9381",
   "metadata": {},
   "outputs": [],
   "source": [
    "# 2.Split 将Documents切分成块以便后续进行嵌入和向量存储\n",
    "from langchain.text_splitter import RecursiveCharacterTextSplitter\n",
    "\n",
    "text_splitter = RecursiveCharacterTextSplitter(chunk_size=200, chunk_overlap=10)\n",
    "chunked_documents = text_splitter.split_documents(documents)"
   ]
  },
  {
   "cell_type": "code",
   "execution_count": null,
   "id": "0e7b5bc7-e609-49e3-a621-3be116ddc4ff",
   "metadata": {},
   "outputs": [],
   "source": [
    "# 3.Store 将分割嵌入并存储在矢量数据库Qdrant中\n",
    "from langchain.vectorstores import Qdrant\n",
    "from langchain.embeddings import OpenAIEmbeddings\n",
    "\n",
    "vectorstore = Qdrant.from_documents(\n",
    "    documents=chunked_documents, # 以分块的文档\n",
    "    embedding=OpenAIEmbeddings(), # 用OpenAI的Embedding Model做嵌入\n",
    "    location=\":memory:\",  # in-memory 存储\n",
    "    collection_name=\"my_documents\",) # 指定collection_name"
   ]
  },
  {
   "cell_type": "code",
   "execution_count": null,
   "id": "305209d3-675c-4fb9-b1cd-3c36f68f8139",
   "metadata": {},
   "outputs": [],
   "source": [
    "# 4. Retrieval 准备模型和Retrieval链\n",
    "import logging # 导入Logging工具\n",
    "from langchain.chat_models import ChatOpenAI # ChatOpenAI模型\n",
    "from langchain.retrievers.multi_query import MultiQueryRetriever # MultiQueryRetriever工具\n",
    "from langchain.chains import RetrievalQA # RetrievalQA链\n",
    "\n",
    "# 设置Logging\n",
    "logging.basicConfig()\n",
    "logging.getLogger('langchain.retrievers.multi_query').setLevel(logging.INFO)\n",
    "\n",
    "# 实例化一个大模型工具 - OpenAI的GPT-3.5\n",
    "llm = ChatOpenAI(model_name=\"gpt-3.5-turbo\", temperature=0)\n",
    "\n",
    "# 实例化一个MultiQueryRetriever\n",
    "retriever_from_llm = MultiQueryRetriever.from_llm(retriever=vectorstore.as_retriever(), llm=llm)\n",
    "\n",
    "# 实例化一个RetrievalQA链\n",
    "qa_chain = RetrievalQA.from_chain_type(llm,retriever=retriever_from_llm)"
   ]
  },
  {
   "cell_type": "code",
   "execution_count": null,
   "id": "4effd2a5-922d-49c8-b414-e6f401e05e20",
   "metadata": {},
   "outputs": [],
   "source": [
    "# 5. Output 问答系统的UI实现\n",
    "from flask import Flask, request, render_template\n",
    "app = Flask(__name__) # Flask APP\n",
    "\n",
    "@app.route('/', methods=['GET', 'POST'])\n",
    "def home():\n",
    "    if request.method == 'POST':\n",
    "\n",
    "        # 接收用户输入作为问题\n",
    "        question = request.form.get('question')        \n",
    "        \n",
    "        # RetrievalQA链 - 读入问题，生成答案\n",
    "        result = qa_chain({\"query\": question})\n",
    "        \n",
    "        # 把大模型的回答结果返回网页进行渲染\n",
    "        return render_template('index.html', result=result)\n",
    "    \n",
    "    return render_template('index.html')\n",
    "\n",
    "if __name__ == \"__main__\":\n",
    "    app.run(host='0.0.0.0',debug=True,port=5000)"
   ]
  }
 ],
 "metadata": {
  "kernelspec": {
   "display_name": "Python 3 (ipykernel)",
   "language": "python",
   "name": "python3"
  },
  "language_info": {
   "codemirror_mode": {
    "name": "ipython",
    "version": 3
   },
   "file_extension": ".py",
   "mimetype": "text/x-python",
   "name": "python",
   "nbconvert_exporter": "python",
   "pygments_lexer": "ipython3",
   "version": "3.9.6"
  }
 },
 "nbformat": 4,
 "nbformat_minor": 5
}
