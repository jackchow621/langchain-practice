{
 "cells": [
  {
   "cell_type": "markdown",
   "id": "a29a5611-38cb-4ce4-93be-e0129d978185",
   "metadata": {},
   "source": [
    "# 示例-01"
   ]
  },
  {
   "cell_type": "code",
   "execution_count": null,
   "id": "d2f7fa4d-4f23-409a-b594-8ccf7c153c34",
   "metadata": {},
   "outputs": [],
   "source": [
    "# 导入LangChain中的提示模板\n",
    "from langchain.prompts import PromptTemplate\n",
    "# 创建原始模板\n",
    "template = \"\"\"您是一位专业的鲜花店文案撰写员。\\n\n",
    "对于售价为 {price} 元的 {flower_name} ，您能提供一个吸引人的简短描述吗？\n",
    "\"\"\"\n",
    "# 根据原始模板创建LangChain提示模板\n",
    "prompt = PromptTemplate.from_template(template) \n",
    "# 打印LangChain提示模板的内容\n",
    "print(prompt)"
   ]
  },
  {
   "cell_type": "code",
   "execution_count": null,
   "id": "8ca3a488-6852-416e-8f23-921e3d307575",
   "metadata": {},
   "outputs": [],
   "source": [
    "input_variables=['flower_name', 'price'] \n",
    "output_parser=None partial_variables={} \n",
    "template=\"\"\"\\n您是一位专业的鲜花店文案撰写员。\n",
    "\\n对于售价为 {price} 元的 {flower_name} ，您能提供一个吸引人的简短描述吗？\\n\"\"\"\n",
    "template_format='f-string' \n",
    "validate_template=True"
   ]
  },
  {
   "cell_type": "code",
   "execution_count": null,
   "id": "70890586-55a8-46d3-8b58-a0e4d9b56c13",
   "metadata": {},
   "outputs": [],
   "source": [
    "# 设置OpenAI API Key\n",
    "import os\n",
    "os.environ[\"OPENAI_API_KEY\"] = '你的Open AI API Key'"
   ]
  },
  {
   "cell_type": "code",
   "execution_count": null,
   "id": "64d408b5-f201-4fe3-a13e-e336fb216969",
   "metadata": {},
   "outputs": [],
   "source": [
    "# 导入LangChain中的OpenAI模型接口\n",
    "from langchain_openai import OpenAI\n",
    "# 创建模型实例\n",
    "model = OpenAI(model_name='gpt-3.5-turbo-instruct')\n",
    "# 输入提示\n",
    "input = prompt.format(flower_name=[\"玫瑰\"], price='50')\n",
    "# 得到模型的输出\n",
    "output = model.invoke(input)\n",
    "# 打印输出内容\n",
    "print(output)  "
   ]
  },
  {
   "cell_type": "markdown",
   "id": "9e5a0fe2-1825-43f7-bccc-5e3d524b3f35",
   "metadata": {},
   "source": [
    "# 示例-02"
   ]
  },
  {
   "cell_type": "code",
   "execution_count": null,
   "id": "98ea61e1-d553-460d-b6b1-43bb5f6c52d4",
   "metadata": {},
   "outputs": [],
   "source": [
    "# 导入LangChain中的提示模板\n",
    "from langchain.prompts import PromptTemplate\n",
    "# 创建原始模板\n",
    "template = \"\"\"You are a flower shop assitiant。\\n\n",
    "For {price} of {flower_name} ，can you write something for me？\n",
    "\"\"\"\n",
    "# 根据原始模板创建LangChain提示模板\n",
    "prompt = PromptTemplate.from_template(template) \n",
    "# 打印LangChain提示模板的内容\n",
    "print(prompt)\n",
    "import os\n",
    "os.environ['HUGGINGFACEHUB_API_TOKEN'] = '你的HuggingFace API Token'\n",
    "# 导入LangChain中的OpenAI模型接口\n",
    "from langchain_community.llms import HuggingFaceHub\n",
    "# 创建模型实例\n",
    "model= HuggingFaceHub(repo_id=\"google/flan-t5-large\")\n",
    "# 输入提示\n",
    "input = prompt.format(flower_name=[\"rose\"], price='50')\n",
    "# 得到模型的输出\n",
    "output = model(input)\n",
    "# 打印输出内容\n",
    "print(output)"
   ]
  },
  {
   "cell_type": "markdown",
   "id": "d2c8fcec-e6d2-426b-889e-347c591ad138",
   "metadata": {},
   "source": [
    "# 示例-03"
   ]
  },
  {
   "cell_type": "code",
   "execution_count": null,
   "id": "13923aff-6d9f-4b66-b21d-ff77272e1221",
   "metadata": {},
   "outputs": [],
   "source": [
    "# 导入OpenAI Key\n",
    "import os\n",
    "os.environ[\"OPENAI_API_KEY\"] = '你的OpenAI API Key'"
   ]
  },
  {
   "cell_type": "code",
   "execution_count": null,
   "id": "a43f9afe-f90b-49de-abc1-88a89c439800",
   "metadata": {},
   "outputs": [],
   "source": [
    "# 导入LangChain中的提示模板\n",
    "from langchain.prompts import PromptTemplate\n",
    "# 创建原始提示模板\n",
    "prompt_template = \"\"\"您是一位专业的鲜花店文案撰写员。\n",
    "对于售价为 {price} 元的 {flower_name} ，您能提供一个吸引人的简短描述吗？\n",
    "{format_instructions}\"\"\""
   ]
  },
  {
   "cell_type": "code",
   "execution_count": null,
   "id": "182d2c3b-a453-448f-9af1-f66abd5431c5",
   "metadata": {},
   "outputs": [],
   "source": [
    "# 通过LangChain调用模型\n",
    "from langchain_openai import OpenAI\n",
    "# 创建模型实例\n",
    "model = OpenAI(model_name='gpt-3.5-turbo-instruct')\n",
    "\n",
    "# 导入结构化输出解析器和ResponseSchema\n",
    "from langchain.output_parsers import StructuredOutputParser, ResponseSchema\n",
    "\n",
    "# 定义我们想要接收的响应模式\n",
    "response_schemas = [\n",
    "    ResponseSchema(name=\"description\", description=\"鲜花的描述文案\"),\n",
    "    ResponseSchema(name=\"reason\", description=\"问什么要这样写这个文案\")\n",
    "]"
   ]
  },
  {
   "cell_type": "code",
   "execution_count": null,
   "id": "44cb9f1b-c9e3-4460-b3e5-31de901419cb",
   "metadata": {},
   "outputs": [],
   "source": [
    "# 创建输出解析器\n",
    "output_parser = StructuredOutputParser.from_response_schemas(response_schemas)\n",
    "\n",
    "# 获取格式指示\n",
    "format_instructions = output_parser.get_format_instructions()\n",
    "# 根据原始模板创建提示，同时在提示中加入输出解析器的说明\n",
    "prompt = PromptTemplate.from_template(prompt_template, \n",
    "                partial_variables={\"format_instructions\": format_instructions}) "
   ]
  },
  {
   "cell_type": "code",
   "execution_count": null,
   "id": "f96da69e-1f79-4962-9bca-6fa404393759",
   "metadata": {},
   "outputs": [],
   "source": [
    "# 数据准备\n",
    "flowers = [\"玫瑰\", \"百合\", \"康乃馨\"]\n",
    "prices = [\"50\", \"30\", \"20\"]\n",
    "\n",
    "# 创建一个空的DataFrame用于存储结果\n",
    "import pandas as pd\n",
    "df = pd.DataFrame(columns=[\"flower\", \"price\", \"description\", \"reason\"]) # 先声明列名\n",
    "\n",
    "for flower, price in zip(flowers, prices):\n",
    "    # 根据提示准备模型的输入\n",
    "    input = prompt.format(flower_name=flower, price=price)\n",
    "\n",
    "    # 获取模型的输出\n",
    "    output = model.invoke(input)\n",
    "    \n",
    "    # 解析模型的输出（这是一个字典结构）\n",
    "    parsed_output = output_parser.parse(output)\n",
    "\n",
    "    # 在解析后的输出中添加“flower”和“price”\n",
    "    parsed_output['flower'] = flower\n",
    "    parsed_output['price'] = price\n",
    "\n",
    "    # 将解析后的输出添加到DataFrame中\n",
    "    df.loc[len(df)] = parsed_output  \n",
    "\n",
    "# 打印字典\n",
    "print(df.to_dict(orient='records'))"
   ]
  },
  {
   "cell_type": "code",
   "execution_count": null,
   "id": "e0cb48ea-77f8-4aaa-865e-a48e024c5ddc",
   "metadata": {},
   "outputs": [],
   "source": [
    "# 保存DataFrame到CSV文件\n",
    "df.to_csv(\"flowers_with_descriptions.csv\", index=False)"
   ]
  }
 ],
 "metadata": {
  "kernelspec": {
   "display_name": "Python 3 (ipykernel)",
   "language": "python",
   "name": "python3"
  },
  "language_info": {
   "codemirror_mode": {
    "name": "ipython",
    "version": 3
   },
   "file_extension": ".py",
   "mimetype": "text/x-python",
   "name": "python",
   "nbconvert_exporter": "python",
   "pygments_lexer": "ipython3",
   "version": "3.9.6"
  }
 },
 "nbformat": 4,
 "nbformat_minor": 5
}
