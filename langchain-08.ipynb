{
 "cells": [
  {
   "cell_type": "markdown",
   "id": "74fab6e4-a366-4b74-8a27-d23b1950670a",
   "metadata": {},
   "source": [
    "# LLMChain：最简单的链"
   ]
  },
  {
   "cell_type": "code",
   "execution_count": null,
   "id": "cfb2898a-63ee-4235-8613-6c5858e6d077",
   "metadata": {},
   "outputs": [],
   "source": [
    "#----第一步 创建提示\n",
    "# 导入LangChain中的提示模板\n",
    "from langchain import PromptTemplate\n",
    "# 原始字符串模板\n",
    "template = \"{flower}的花语是?\"\n",
    "# 创建LangChain模板\n",
    "prompt_temp = PromptTemplate.from_template(template) \n",
    "# 根据模板创建提示\n",
    "prompt = prompt_temp.format(flower='玫瑰')\n",
    "# 打印提示的内容\n",
    "print(prompt)"
   ]
  },
  {
   "cell_type": "code",
   "execution_count": null,
   "id": "0422ca88-8042-4842-9331-a40562bda8bd",
   "metadata": {},
   "outputs": [],
   "source": [
    "#----第二步 创建并调用模型 \n",
    "# 导入LangChain中的OpenAI模型接口\n",
    "from langchain import OpenAI\n",
    "# 创建模型实例\n",
    "model = OpenAI(temperature=0)\n",
    "# 传入提示，调用模型，返回结果\n",
    "result = model(prompt)\n",
    "print(result)"
   ]
  },
  {
   "cell_type": "code",
   "execution_count": null,
   "id": "1d7e11de-0df6-4b95-b17e-42f6489c8393",
   "metadata": {},
   "outputs": [],
   "source": [
    "# 导入所需的库\n",
    "from langchain import PromptTemplate, OpenAI, LLMChain\n",
    "# 原始字符串模板\n",
    "template = \"{flower}的花语是?\"\n",
    "# 创建模型实例\n",
    "llm = OpenAI(temperature=0)\n",
    "# 创建LLMChain\n",
    "llm_chain = LLMChain(\n",
    "    llm=llm,\n",
    "    prompt=PromptTemplate.from_template(template))\n",
    "# 调用LLMChain，返回结果\n",
    "result = llm_chain(\"玫瑰\")\n",
    "print(result)"
   ]
  },
  {
   "cell_type": "markdown",
   "id": "dd174e12-1f5c-4721-aad8-51f644f79f3c",
   "metadata": {},
   "source": [
    "# 链的调用"
   ]
  },
  {
   "cell_type": "markdown",
   "id": "5978a828-1091-49fe-8387-bd72fc49040e",
   "metadata": {},
   "source": [
    "## 直接调用"
   ]
  },
  {
   "cell_type": "code",
   "execution_count": null,
   "id": "32b267d3-8f67-4689-b4ab-4cdf93332928",
   "metadata": {},
   "outputs": [],
   "source": [
    "prompt = PromptTemplate(\n",
    "    input_variables=[\"flower\", \"season\"],\n",
    "    template=\"{flower}在{season}的花语是?\",\n",
    ")\n",
    "llm_chain = LLMChain(llm=llm, prompt=prompt)\n",
    "print(llm_chain({\n",
    "    'flower': \"玫瑰\",\n",
    "    'season': \"夏季\" }))"
   ]
  },
  {
   "cell_type": "markdown",
   "id": "05fa2b27-79ae-4366-8731-8aa92e304ca0",
   "metadata": {},
   "source": [
    "## 通过 run 方法"
   ]
  },
  {
   "cell_type": "code",
   "execution_count": null,
   "id": "c5c48838-2a97-43f7-957e-b4230a748a56",
   "metadata": {},
   "outputs": [],
   "source": [
    "llm_chain(\"玫瑰\")\n",
    "llm_chain.run(\"玫瑰\")"
   ]
  },
  {
   "cell_type": "markdown",
   "id": "807dc659-26ca-4ef3-81b3-13d8750a391a",
   "metadata": {},
   "source": [
    "## 通过 predict 方法"
   ]
  },
  {
   "cell_type": "code",
   "execution_count": null,
   "id": "2ae581a4-7126-44a9-8a0a-c2a31a66b0d0",
   "metadata": {},
   "outputs": [],
   "source": [
    "result = llm_chain.predict(flower=\"玫瑰\")\n",
    "print(result)"
   ]
  },
  {
   "cell_type": "markdown",
   "id": "8fc998a3-845d-41f2-9f6c-f4db9755e675",
   "metadata": {},
   "source": [
    "## 通过 apply 方法"
   ]
  },
  {
   "cell_type": "code",
   "execution_count": null,
   "id": "95481992-d877-4fb0-bc8c-9568269ebff1",
   "metadata": {},
   "outputs": [],
   "source": [
    "# apply允许您针对输入列表运行链\n",
    "input_list = [\n",
    "    {\"flower\": \"玫瑰\",'season': \"夏季\"},\n",
    "    {\"flower\": \"百合\",'season': \"春季\"},\n",
    "    {\"flower\": \"郁金香\",'season': \"秋季\"}\n",
    "]\n",
    "result = llm_chain.apply(input_list)\n",
    "print(result)"
   ]
  },
  {
   "cell_type": "markdown",
   "id": "19a7e309-830c-4d93-8c8e-e84e72b13893",
   "metadata": {},
   "source": [
    "## 通过 generate 方法"
   ]
  },
  {
   "cell_type": "code",
   "execution_count": null,
   "id": "fee545e0-4f1d-451d-be81-80fd42f2d4d0",
   "metadata": {},
   "outputs": [],
   "source": [
    "result = llm_chain.generate(input_list)\n",
    "print(result)"
   ]
  },
  {
   "cell_type": "markdown",
   "id": "cc6f70b1-e650-4526-b1eb-3a1e473396ed",
   "metadata": {},
   "source": [
    "# Sequential Chain：顺序链"
   ]
  },
  {
   "cell_type": "code",
   "execution_count": null,
   "id": "4aafca1c-63b7-4354-9923-e1da046cee19",
   "metadata": {},
   "outputs": [],
   "source": [
    "# 设置OpenAI API密钥\n",
    "import os\n",
    "os.environ[\"OPENAI_API_KEY\"] = '你的OpenAI API Key'\n",
    "\n",
    "from langchain.llms import OpenAI\n",
    "from langchain.chains import LLMChain\n",
    "from langchain.prompts import PromptTemplate\n",
    "from langchain.chains import SequentialChain"
   ]
  },
  {
   "cell_type": "code",
   "execution_count": null,
   "id": "6ade4f9c-a8c4-4c78-a467-be2dd5c2cc24",
   "metadata": {},
   "outputs": [],
   "source": [
    "# 这是第一个LLMChain，用于生成鲜花的介绍，输入为花的名称和种类\n",
    "llm = OpenAI(temperature=.7)\n",
    "template = \"\"\"\n",
    "你是一个植物学家。给定花的名称和类型，你需要为这种花写一个200字左右的介绍。\n",
    "\n",
    "花名: {name}\n",
    "颜色: {color}\n",
    "植物学家: 这是关于上述花的介绍:\"\"\"\n",
    "prompt_template = PromptTemplate(input_variables=[\"name\", \"color\"], template=template)\n",
    "introduction_chain = LLMChain(llm=llm, prompt=prompt_template, output_key=\"introduction\")"
   ]
  },
  {
   "cell_type": "code",
   "execution_count": null,
   "id": "e57b761e-3f89-4af1-8d87-7bfd0d2cdc7d",
   "metadata": {},
   "outputs": [],
   "source": [
    "# 这是第二个LLMChain，用于根据鲜花的介绍写出鲜花的评论\n",
    "llm = OpenAI(temperature=.7)\n",
    "template = \"\"\"\n",
    "你是一位鲜花评论家。给定一种花的介绍，你需要为这种花写一篇200字左右的评论。\n",
    "\n",
    "鲜花介绍:\n",
    "{introduction}\n",
    "花评人对上述花的评论:\"\"\"\n",
    "prompt_template = PromptTemplate(input_variables=[\"introduction\"], template=template)\n",
    "review_chain = LLMChain(llm=llm, prompt=prompt_template, output_key=\"review\")"
   ]
  },
  {
   "cell_type": "code",
   "execution_count": null,
   "id": "e4b1c1a5-e619-4fdf-9dd7-93b1700d09ce",
   "metadata": {},
   "outputs": [],
   "source": [
    "# 这是第三个LLMChain，用于根据鲜花的介绍和评论写出一篇自媒体的文案\n",
    "template = \"\"\"\n",
    "你是一家花店的社交媒体经理。给定一种花的介绍和评论，你需要为这种花写一篇社交媒体的帖子，300字左右。\n",
    "\n",
    "鲜花介绍:\n",
    "{introduction}\n",
    "花评人对上述花的评论:\n",
    "{review}\n",
    "\n",
    "社交媒体帖子:\n",
    "\"\"\"\n",
    "prompt_template = PromptTemplate(input_variables=[\"introduction\", \"review\"], template=template)\n",
    "social_post_chain = LLMChain(llm=llm, prompt=prompt_template, output_key=\"social_post_text\")"
   ]
  },
  {
   "cell_type": "code",
   "execution_count": null,
   "id": "6cc3a8b2-cfbe-46b6-b3e7-889a5110d9a5",
   "metadata": {},
   "outputs": [],
   "source": [
    "# 这是总的链，我们按顺序运行这三个链\n",
    "overall_chain = SequentialChain(\n",
    "    chains=[introduction_chain, review_chain, social_post_chain],\n",
    "    input_variables=[\"name\", \"color\"],\n",
    "    output_variables=[\"introduction\",\"review\",\"social_post_text\"],\n",
    "    verbose=True)\n",
    "\n",
    "# 运行链，并打印结果\n",
    "result = overall_chain({\"name\":\"玫瑰\", \"color\": \"黑色\"})\n",
    "print(result)"
   ]
  }
 ],
 "metadata": {
  "kernelspec": {
   "display_name": "Python 3 (ipykernel)",
   "language": "python",
   "name": "python3"
  },
  "language_info": {
   "codemirror_mode": {
    "name": "ipython",
    "version": 3
   },
   "file_extension": ".py",
   "mimetype": "text/x-python",
   "name": "python",
   "nbconvert_exporter": "python",
   "pygments_lexer": "ipython3",
   "version": "3.9.6"
  }
 },
 "nbformat": 4,
 "nbformat_minor": 5
}
