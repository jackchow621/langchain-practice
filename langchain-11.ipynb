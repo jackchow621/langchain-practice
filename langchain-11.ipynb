{
 "cells": [
  {
   "cell_type": "markdown",
   "id": "30c3676c-db6a-47e7-866b-41b0d6f8c968",
   "metadata": {},
   "source": [
    "# 通过代理实现 ReAct 框架"
   ]
  },
  {
   "cell_type": "code",
   "execution_count": null,
   "id": "f3d0ff80-f25c-46ca-90db-02ef6adbf702",
   "metadata": {},
   "outputs": [],
   "source": [
    "pip3 install google-search-results"
   ]
  },
  {
   "cell_type": "code",
   "execution_count": null,
   "id": "b8bd2a88-fa5d-4ffe-8af8-724382535611",
   "metadata": {},
   "outputs": [],
   "source": [
    "# 设置OpenAI和SERPAPI的API密钥\n",
    "import os\n",
    "os.environ[\"OPENAI_API_KEY\"] = 'Your OpenAI API Key'\n",
    "os.environ[\"SERPAPI_API_KEY\"] = 'Your SerpAPI API Key'"
   ]
  },
  {
   "cell_type": "code",
   "execution_count": null,
   "id": "3ec6580d-9306-4ff0-b88a-6ba7fc16d4a8",
   "metadata": {},
   "outputs": [],
   "source": [
    "from langchain.agents import load_tools\n",
    "from langchain.agents import initialize_agent\n",
    "from langchain.agents import AgentType\n",
    "from langchain.llms import OpenAI\n",
    "\n",
    "llm = OpenAI(temperature=0)\n",
    "\n",
    "tools = load_tools([\"serpapi\", \"llm-math\"], llm=llm)\n",
    "\n",
    "agent = initialize_agent(tools, llm, agent=AgentType.ZERO_SHOT_REACT_DESCRIPTION, verbose=True)"
   ]
  },
  {
   "cell_type": "code",
   "execution_count": null,
   "id": "aad69d0d-6c4c-4d64-8321-8ea58391ea3a",
   "metadata": {},
   "outputs": [],
   "source": [
    "agent.run(\"目前市场上玫瑰花的平均价格是多少？如果我在此基础上加价15%卖出，应该如何定价？\")"
   ]
  }
 ],
 "metadata": {
  "kernelspec": {
   "display_name": "Python 3 (ipykernel)",
   "language": "python",
   "name": "python3"
  },
  "language_info": {
   "codemirror_mode": {
    "name": "ipython",
    "version": 3
   },
   "file_extension": ".py",
   "mimetype": "text/x-python",
   "name": "python",
   "nbconvert_exporter": "python",
   "pygments_lexer": "ipython3",
   "version": "3.9.6"
  }
 },
 "nbformat": 4,
 "nbformat_minor": 5
}
