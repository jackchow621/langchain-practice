{
 "cells": [
  {
   "cell_type": "markdown",
   "id": "9fb59501-f152-46b5-bd5d-20769a16a7ec",
   "metadata": {},
   "source": [
    "# 创建数据库表"
   ]
  },
  {
   "cell_type": "code",
   "execution_count": 15,
   "id": "be4c38c2-0fbb-4ebb-88cc-591eac770b83",
   "metadata": {},
   "outputs": [],
   "source": [
    "# 导入sqlite3库\n",
    "import sqlite3\n",
    "\n",
    "#初始化数据库\n",
    "conn = sqlite3.connect('FlowerShop.db')\n",
    "cursor = conn.cursor()\n",
    "\n",
    "#删除Flowers表\n",
    "cursor.execute('''\n",
    "        DROP TABLE IF EXISTS Flowers;\n",
    "    ''')\n",
    "\n",
    "# 执行SQL命令来创建Flowers表\n",
    "cursor.execute('''\n",
    "        CREATE TABLE Flowers (\n",
    "            ID INTEGER PRIMARY KEY, \n",
    "            Name TEXT NOT NULL, \n",
    "            Type TEXT NOT NULL, \n",
    "            Source TEXT NOT NULL, \n",
    "            PurchasePrice REAL, \n",
    "            SalePrice REAL,\n",
    "            StockQuantity INTEGER, \n",
    "            SoldQuantity INTEGER, \n",
    "            ExpiryDate DATE,  \n",
    "            Description TEXT, \n",
    "            EntryDate DATE DEFAULT CURRENT_DATE \n",
    "        );\n",
    "    ''')\n",
    "\n",
    "# 插入5种鲜花的数据\n",
    "flowers = [\n",
    "    ('Rose', 'Flower', 'France', 1.2, 2.5, 100, 10, '2023-12-31', 'A beautiful red rose'),\n",
    "    ('Tulip', 'Flower', 'Netherlands', 0.8, 2.0, 150, 25, '2023-12-31', 'A colorful tulip'),\n",
    "    ('Lily', 'Flower', 'China', 1.5, 3.0, 80, 5, '2023-12-31', 'An elegant white lily'),\n",
    "    ('Daisy', 'Flower', 'USA', 0.7, 1.8, 120, 15, '2023-12-31', 'A cheerful daisy flower'),\n",
    "    ('Orchid', 'Flower', 'Brazil', 2.0, 4.0, 50, 2, '2023-12-31', 'A delicate purple orchid')\n",
    "]\n",
    "\n",
    "for flower in flowers:\n",
    "    cursor.execute('''\n",
    "        INSERT INTO Flowers (Name, Type, Source, PurchasePrice, SalePrice, StockQuantity, SoldQuantity, ExpiryDate, Description) \n",
    "        VALUES (?, ?, ?, ?, ?, ?, ?, ?, ?);\n",
    "    ''', flower)\n",
    "\n",
    "# 提交更改\n",
    "conn.commit()\n",
    "\n",
    "# 关闭数据库连接\n",
    "conn.close()"
   ]
  },
  {
   "cell_type": "markdown",
   "id": "aa926376-1f21-4339-85d5-19f65d64e32e",
   "metadata": {},
   "source": [
    "# 用 Chain 查询数据库"
   ]
  },
  {
   "cell_type": "code",
   "execution_count": 13,
   "id": "1ec81e36-346b-48d4-b120-885cbbb7b61f",
   "metadata": {},
   "outputs": [
    {
     "name": "stdout",
     "output_type": "stream",
     "text": [
      "Defaulting to user installation because normal site-packages is not writeable\n",
      "Requirement already satisfied: langchain-experimental in /Users/jackchow/Library/Python/3.9/lib/python/site-packages (0.0.61)\n",
      "Requirement already satisfied: langchain-community<0.3.0,>=0.2.5 in /Users/jackchow/Library/Python/3.9/lib/python/site-packages (from langchain-experimental) (0.2.5)\n",
      "Requirement already satisfied: langchain-core<0.3.0,>=0.2.7 in /Users/jackchow/Library/Python/3.9/lib/python/site-packages (from langchain-experimental) (0.2.9)\n",
      "Requirement already satisfied: PyYAML>=5.3 in /Users/jackchow/Library/Python/3.9/lib/python/site-packages (from langchain-community<0.3.0,>=0.2.5->langchain-experimental) (6.0.1)\n",
      "Requirement already satisfied: SQLAlchemy<3,>=1.4 in /Users/jackchow/Library/Python/3.9/lib/python/site-packages (from langchain-community<0.3.0,>=0.2.5->langchain-experimental) (2.0.31)\n",
      "Requirement already satisfied: aiohttp<4.0.0,>=3.8.3 in /Users/jackchow/Library/Python/3.9/lib/python/site-packages (from langchain-community<0.3.0,>=0.2.5->langchain-experimental) (3.9.5)\n",
      "Requirement already satisfied: dataclasses-json<0.7,>=0.5.7 in /Users/jackchow/Library/Python/3.9/lib/python/site-packages (from langchain-community<0.3.0,>=0.2.5->langchain-experimental) (0.6.7)\n",
      "Requirement already satisfied: langchain<0.3.0,>=0.2.5 in /Users/jackchow/Library/Python/3.9/lib/python/site-packages (from langchain-community<0.3.0,>=0.2.5->langchain-experimental) (0.2.5)\n",
      "Requirement already satisfied: langsmith<0.2.0,>=0.1.0 in /Users/jackchow/Library/Python/3.9/lib/python/site-packages (from langchain-community<0.3.0,>=0.2.5->langchain-experimental) (0.1.82)\n",
      "Requirement already satisfied: numpy<2,>=1 in /Users/jackchow/Library/Python/3.9/lib/python/site-packages (from langchain-community<0.3.0,>=0.2.5->langchain-experimental) (1.26.4)\n",
      "Requirement already satisfied: requests<3,>=2 in /Users/jackchow/Library/Python/3.9/lib/python/site-packages (from langchain-community<0.3.0,>=0.2.5->langchain-experimental) (2.32.3)\n",
      "Requirement already satisfied: tenacity<9.0.0,>=8.1.0 in /Users/jackchow/Library/Python/3.9/lib/python/site-packages (from langchain-community<0.3.0,>=0.2.5->langchain-experimental) (8.4.1)\n",
      "Requirement already satisfied: jsonpatch<2.0,>=1.33 in /Users/jackchow/Library/Python/3.9/lib/python/site-packages (from langchain-core<0.3.0,>=0.2.7->langchain-experimental) (1.33)\n",
      "Requirement already satisfied: packaging<25,>=23.2 in /Users/jackchow/Library/Python/3.9/lib/python/site-packages (from langchain-core<0.3.0,>=0.2.7->langchain-experimental) (23.2)\n",
      "Requirement already satisfied: pydantic<3,>=1 in /Users/jackchow/Library/Python/3.9/lib/python/site-packages (from langchain-core<0.3.0,>=0.2.7->langchain-experimental) (2.7.4)\n",
      "Requirement already satisfied: aiosignal>=1.1.2 in /Users/jackchow/Library/Python/3.9/lib/python/site-packages (from aiohttp<4.0.0,>=3.8.3->langchain-community<0.3.0,>=0.2.5->langchain-experimental) (1.3.1)\n",
      "Requirement already satisfied: attrs>=17.3.0 in /Users/jackchow/Library/Python/3.9/lib/python/site-packages (from aiohttp<4.0.0,>=3.8.3->langchain-community<0.3.0,>=0.2.5->langchain-experimental) (23.2.0)\n",
      "Requirement already satisfied: frozenlist>=1.1.1 in /Users/jackchow/Library/Python/3.9/lib/python/site-packages (from aiohttp<4.0.0,>=3.8.3->langchain-community<0.3.0,>=0.2.5->langchain-experimental) (1.4.1)\n",
      "Requirement already satisfied: multidict<7.0,>=4.5 in /Users/jackchow/Library/Python/3.9/lib/python/site-packages (from aiohttp<4.0.0,>=3.8.3->langchain-community<0.3.0,>=0.2.5->langchain-experimental) (6.0.5)\n",
      "Requirement already satisfied: yarl<2.0,>=1.0 in /Users/jackchow/Library/Python/3.9/lib/python/site-packages (from aiohttp<4.0.0,>=3.8.3->langchain-community<0.3.0,>=0.2.5->langchain-experimental) (1.9.4)\n",
      "Requirement already satisfied: async-timeout<5.0,>=4.0 in /Users/jackchow/Library/Python/3.9/lib/python/site-packages (from aiohttp<4.0.0,>=3.8.3->langchain-community<0.3.0,>=0.2.5->langchain-experimental) (4.0.3)\n",
      "Requirement already satisfied: marshmallow<4.0.0,>=3.18.0 in /Users/jackchow/Library/Python/3.9/lib/python/site-packages (from dataclasses-json<0.7,>=0.5.7->langchain-community<0.3.0,>=0.2.5->langchain-experimental) (3.21.3)\n",
      "Requirement already satisfied: typing-inspect<1,>=0.4.0 in /Users/jackchow/Library/Python/3.9/lib/python/site-packages (from dataclasses-json<0.7,>=0.5.7->langchain-community<0.3.0,>=0.2.5->langchain-experimental) (0.9.0)\n",
      "Requirement already satisfied: jsonpointer>=1.9 in /Users/jackchow/Library/Python/3.9/lib/python/site-packages (from jsonpatch<2.0,>=1.33->langchain-core<0.3.0,>=0.2.7->langchain-experimental) (3.0.0)\n",
      "Requirement already satisfied: langchain-text-splitters<0.3.0,>=0.2.0 in /Users/jackchow/Library/Python/3.9/lib/python/site-packages (from langchain<0.3.0,>=0.2.5->langchain-community<0.3.0,>=0.2.5->langchain-experimental) (0.2.1)\n",
      "Requirement already satisfied: orjson<4.0.0,>=3.9.14 in /Users/jackchow/Library/Python/3.9/lib/python/site-packages (from langsmith<0.2.0,>=0.1.0->langchain-community<0.3.0,>=0.2.5->langchain-experimental) (3.10.5)\n",
      "Requirement already satisfied: annotated-types>=0.4.0 in /Users/jackchow/Library/Python/3.9/lib/python/site-packages (from pydantic<3,>=1->langchain-core<0.3.0,>=0.2.7->langchain-experimental) (0.7.0)\n",
      "Requirement already satisfied: pydantic-core==2.18.4 in /Users/jackchow/Library/Python/3.9/lib/python/site-packages (from pydantic<3,>=1->langchain-core<0.3.0,>=0.2.7->langchain-experimental) (2.18.4)\n",
      "Requirement already satisfied: typing-extensions>=4.6.1 in /Users/jackchow/Library/Python/3.9/lib/python/site-packages (from pydantic<3,>=1->langchain-core<0.3.0,>=0.2.7->langchain-experimental) (4.12.2)\n",
      "Requirement already satisfied: charset-normalizer<4,>=2 in /Users/jackchow/Library/Python/3.9/lib/python/site-packages (from requests<3,>=2->langchain-community<0.3.0,>=0.2.5->langchain-experimental) (3.3.2)\n",
      "Requirement already satisfied: idna<4,>=2.5 in /Users/jackchow/Library/Python/3.9/lib/python/site-packages (from requests<3,>=2->langchain-community<0.3.0,>=0.2.5->langchain-experimental) (3.7)\n",
      "Requirement already satisfied: urllib3<3,>=1.21.1 in /Users/jackchow/Library/Python/3.9/lib/python/site-packages (from requests<3,>=2->langchain-community<0.3.0,>=0.2.5->langchain-experimental) (2.2.1)\n",
      "Requirement already satisfied: certifi>=2017.4.17 in /Users/jackchow/Library/Python/3.9/lib/python/site-packages (from requests<3,>=2->langchain-community<0.3.0,>=0.2.5->langchain-experimental) (2024.6.2)\n",
      "Requirement already satisfied: greenlet!=0.4.17 in /Users/jackchow/Library/Python/3.9/lib/python/site-packages (from SQLAlchemy<3,>=1.4->langchain-community<0.3.0,>=0.2.5->langchain-experimental) (3.0.3)\n",
      "Requirement already satisfied: mypy-extensions>=0.3.0 in /Users/jackchow/Library/Python/3.9/lib/python/site-packages (from typing-inspect<1,>=0.4.0->dataclasses-json<0.7,>=0.5.7->langchain-community<0.3.0,>=0.2.5->langchain-experimental) (1.0.0)\n"
     ]
    }
   ],
   "source": [
    "!pip3 install langchain-experimental"
   ]
  },
  {
   "cell_type": "code",
   "execution_count": null,
   "id": "c17020cd-f5ca-4d2b-a97b-12a41ab05a6d",
   "metadata": {},
   "outputs": [],
   "source": [
    "# 导入langchain的实用工具和相关的模块\n",
    "from langchain.utilities import SQLDatabase\n",
    "from langchain.llms import OpenAI\n",
    "from langchain_experimental.sql import SQLDatabaseChain\n",
    "\n",
    "# 连接到FlowerShop数据库（之前我们使用的是Chinook.db）\n",
    "db = SQLDatabase.from_uri(\"sqlite:///FlowerShop.db\")\n",
    "\n",
    "# 创建OpenAI的低级语言模型（LLM）实例，这里我们设置温度为0，意味着模型输出会更加确定性\n",
    "llm = OpenAI(temperature=0, verbose=True)\n",
    "\n",
    "# 创建SQL数据库链实例，它允许我们使用LLM来查询SQL数据库\n",
    "db_chain = SQLDatabaseChain.from_llm(llm, db, verbose=True)\n",
    "\n",
    "# 运行与鲜花运营相关的问题\n",
    "response = db_chain.run(\"有多少种不同的鲜花？\")\n",
    "print(response)\n",
    "\n",
    "response = db_chain.run(\"哪种鲜花的存货数量最少？\")\n",
    "print(response)\n",
    "\n",
    "response = db_chain.run(\"平均销售价格是多少？\")\n",
    "print(response)\n",
    "\n",
    "response = db_chain.run(\"从法国进口的鲜花有多少种？\")\n",
    "print(response)\n",
    "\n",
    "response = db_chain.run(\"哪种鲜花的销售量最高？\")\n",
    "print(response)"
   ]
  },
  {
   "cell_type": "markdown",
   "id": "1d244c0a-8670-4fcc-b454-7c3fffda1013",
   "metadata": {},
   "source": [
    "# 用 Agent 查询数据库"
   ]
  },
  {
   "cell_type": "code",
   "execution_count": null,
   "id": "5fd177fc-3968-4a45-a4a2-ba7a0a91bbb4",
   "metadata": {},
   "outputs": [],
   "source": [
    "from langchain.utilities import SQLDatabase\n",
    "from langchain.llms import OpenAI\n",
    "from langchain.agents import create_sql_agent\n",
    "from langchain.agents.agent_toolkits import SQLDatabaseToolkit\n",
    "from langchain.agents.agent_types import AgentType\n",
    "\n",
    "# 连接到FlowerShop数据库\n",
    "db = SQLDatabase.from_uri(\"sqlite:///FlowerShop.db\")\n",
    "llm = OpenAI(temperature=0, verbose=True)\n",
    "\n",
    "# 创建SQL Agent\n",
    "agent_executor = create_sql_agent(\n",
    "    llm=llm,\n",
    "    toolkit=SQLDatabaseToolkit(db=db, llm=llm),\n",
    "    verbose=True,\n",
    "    agent_type=AgentType.ZERO_SHOT_REACT_DESCRIPTION,\n",
    ")\n",
    "\n",
    "# 使用Agent执行SQL查询\n",
    "\n",
    "questions = [\n",
    "    \"哪种鲜花的存货数量最少？\",\n",
    "    \"平均销售价格是多少？\",\n",
    "]\n",
    "\n",
    "for question in questions:\n",
    "    response = agent_executor.run(question)\n",
    "    print(response)"
   ]
  }
 ],
 "metadata": {
  "kernelspec": {
   "display_name": "Python 3 (ipykernel)",
   "language": "python",
   "name": "python3"
  },
  "language_info": {
   "codemirror_mode": {
    "name": "ipython",
    "version": 3
   },
   "file_extension": ".py",
   "mimetype": "text/x-python",
   "name": "python",
   "nbconvert_exporter": "python",
   "pygments_lexer": "ipython3",
   "version": "3.9.6"
  }
 },
 "nbformat": 4,
 "nbformat_minor": 5
}
